{
 "cells": [
  {
   "attachments": {},
   "cell_type": "markdown",
   "metadata": {},
   "source": [
    "# Assignment 3: Universal Function Approximator\n",
    "\n",
    "\n",
    "The goal of this exercise is to train a two-layer fully-connected network to perform one-dimensional non-linear regression via gradient descent. To show the flexibility of the approach, three different functions will be approximated. First, the network and its gradient need to be implemented. Second, target data for three different functions will be generated. Finally, the training procedure will be applied to the data, and the resulting approximated function will be plotted together with the data samples.\n",
    "\n",
    "## Network Implementation\n",
    "\n",
    "A two-layer network is defined by parameters $\\Theta=(\\mathbf W^{(1)},\\vec w^{(2)})$ that are split into $\\mathbf W^{(1)}\\in\\mathbb R^{K\\times {(D+1)}}$ for the first layer and $\\vec w^{(2)}\\in\\mathbb R^{K+1}$ for the second layer. In our case, since we have only a single input, we have $D=1$.\n",
    "For a given input $\\vec x = (1, x)^T$, the network is implemented in three steps:\n",
    "\n",
    "1. Compute the first layer output, aka, the activation: $\\vec a_- = \\mathbf W^{(1)} \\vec x$\n",
    "2. Apply the activation function for each element of $\\vec a_- : \\vec h_- = g(\\vec a_-)$ and prepend the bias neuron $h_0=1$ to arrive at $\\vec h$.\n",
    "3. Compute the output of the network: $y = \\vec w^{(2)}\\ ^T\\vec h$.\n",
    "\n",
    "### Task 1  \n",
    "Implement a function that returns the network output for a given input $\\vec x$ and parameters $\\Theta=(\\mathbf W^{(1)}, \\vec w^{(2)})$. Remember that the input of the function $\\vec x = (1, x)^T$. Also remember to prepend $h_0=1$ in your implementation.\n",
    "\n",
    "We use hyperbolic tangent $(\\tanh)$ as the activation function:\n",
    "\n",
    "\\begin{equation*}\n",
    "    \\tanh(a) = \\frac{e^{a}-e^{-a}}{e^{a}+e^{-a}}\n",
    "\\end{equation*}\n",
    "\n",
    "Note:\n",
    "\n",
    "1. Use the `np` implemention of the hyperbolic tangent function.\n",
    "2. Use `np.concatenate` or `np.insert` to prepend $h_0$.\n",
    "3. Make use of `np.dot` to compute matrix-vector and vector-vector products."
   ]
  },
  {
   "cell_type": "code",
   "execution_count": 128,
   "metadata": {},
   "outputs": [],
   "source": [
    "import numpy as np\n",
    "import math\n",
    "\n",
    "def network(x, Theta):\n",
    "  W1, w2 = Theta\n",
    "  # activation function\n",
    "  a_ = np.dot(W1, x)\n",
    "  h_ = np.tanh(a_)\n",
    "  h = np.array([1])\n",
    "  y = np.dot(w2.T, np.append(h, h_))\n",
    "  return y, h"
   ]
  },
  {
   "attachments": {},
   "cell_type": "markdown",
   "metadata": {},
   "source": [
    "Test 1: Sanity Check\n",
    "----------------------------\n",
    "\n",
    "We select a specific number of hidden neurons and create the weights accordingly, using all zeros in the first layer and all ones in the second. The test case below assures that the function from Task 1 actually returns $1$ for those weights.\n",
    "\n",
    "Note: your function should pass the test below."
   ]
  },
  {
   "cell_type": "code",
   "execution_count": 129,
   "metadata": {},
   "outputs": [
    {
     "name": "stdout",
     "output_type": "stream",
     "text": [
      "Test passed\n"
     ]
    }
   ],
   "source": [
    "K = 20\n",
    "D = 1\n",
    "W1 = np.zeros((K, D+1))\n",
    "w2 = np.ones(K+1)\n",
    "x = np.random.rand(D+1)\n",
    "\n",
    "y, _ = network(x, (W1, w2))\n",
    "assert abs(1 - y) < 1e-6\n",
    "print(\"Test passed\")"
   ]
  },
  {
   "attachments": {},
   "cell_type": "markdown",
   "metadata": {},
   "source": [
    "## Gradient Implementation\n",
    "\n",
    "In order to perform gradient descent, we need to define a loss function. As provided in the lecture, the $\\mathcal J^{L_2}$ loss function is defined over a dataset $X=\\{(\\vec x^{[n]}, t^{[n]})\\}$, that is defined as a list of tuples, as follows:\n",
    "\n",
    "$$\n",
    "   \\mathcal J^{L_2} = \\frac{1}{N}\\sum_{i=1}^N (y^{[n]}-t^{[n]})^2\n",
    "$$\n",
    "\n",
    "where $y^{[n]}$ is the output of the network from Task 1 when inputting $\\vec x^{[n]}$. Interestingly, however, we never explicitly need to compute the output of the loss function. It is only used to analytically compute the gradient as shown in the lecture.\n",
    "\n",
    "The gradient is composed of two items, one for each layer. Particularly, for a given dataset $X$, the gradient of loss $J^{L_2}$ is defined as:\n",
    "\n",
    "\\begin{align}\n",
    "  \\frac{\\partial \\mathcal J}{\\partial w_{kd}^{(1)}} &= \\frac{2}{N} \\sum\\limits_{n=1}^N (y^{[n]}-t^{[n]}) w_{k}^{(2)} (1-h_{k}^{[n]}\\cdot h_{k}^{[n]}) x_{d}^{[n]}\\\\\n",
    "  \\frac{\\partial \\mathcal J}{\\partial w_{k}^{(2)}} &= \\frac{2}{N} \\sum\\limits_{n=1}^N (y^{[n]}-t^{[n]}) w_{k}^{(2)} h_{k}^{[n]}\n",
    "\\end{align}\n",
    "\n",
    "### Task 2\n",
    "Implement a function that returns the gradient as defined in $(1)$ and $(2)$ for a given dataset $X$, and given weights $\\Theta=(\\mathbf W^{(1)},\\vec w^{(2)})$. Make sure that both parts of the gradient are computed. \n",
    "\n",
    "Hint:\n",
    "\n",
    "1. Make use of the the function implemented in Task 1 where appropriate\n",
    "\n",
    "Note:\n",
    "\n",
    "  1. This is a slow implementation. We will see how to speed this up in the next lecture.\n",
    "  2. You can make use of `np.zeros` to initialize the gradient.\n",
    "  3. The outper product can be computed via `np.outer`.\n",
    "  4. Remember that we used the $\\tanh$ activation function in our network."
   ]
  },
  {
   "cell_type": "code",
   "execution_count": 130,
   "metadata": {},
   "outputs": [],
   "source": [
    "def gradient(X, Theta):\n",
    "  # split parameters for easier handling\n",
    "  W1, w2 = Theta\n",
    "  \n",
    "  # define gradient with respect to both parameters\n",
    "  dW1 = np.zeros(W1.shape)\n",
    "  dw2 = np.zeros(w2.shape)\n",
    "\n",
    "  # iterate over dataset\n",
    "  for x, t in X:\n",
    "    # compute the gradient\n",
    "    y, h = network(x, Theta)\n",
    "    dW1.append((y - t) * w2[1:] * (1 - h**2) * x)\n",
    "    dw2.append((y - t) * h * w2[1:]) \n",
    "\n",
    "  # anything else?\n",
    "  dW1 = 2 * np.mean(dW1, axis=0)\n",
    "  dw2 = 2 * np.mean(dw2, axis=0)\n",
    "  \n",
    "  return dW1, dw2"
   ]
  },
  {
   "attachments": {},
   "cell_type": "markdown",
   "metadata": {},
   "source": [
    "## Gradient Descent\n",
    "\n",
    "The procedure of gradient descent is the repeated application of two steps.\n",
    " \n",
    "1. The gradient of loss $\\nabla_{\\Theta}\\mathcal J^{L_2}$ is computed based on the current value of the parameters $\\Theta=(\\mathbf W^{(1)},\\vec w^{(2)})$.\n",
    "2. The weights are updated by moving a small step $\\eta$ into the direction of the negative gradient:\n",
    "\n",
    "$$\n",
    "    \\Theta = \\Theta - \\eta \\nabla_{\\Theta}\\mathcal J\n",
    "$$\n",
    "\n",
    "As stopping criterion, we select the number of training epochs to be 10000.\n",
    "\n",
    "### Task 3\n",
    "Implement a function that performs gradient descent for a given dataset $X$, given initial parameters $\\Theta$ and a given learning rate $\\eta$ and returns the optimized parameters $\\Theta^*$."
   ]
  },
  {
   "cell_type": "code",
   "execution_count": 131,
   "metadata": {},
   "outputs": [],
   "source": [
    "def gradient_descent(X, Theta, eta):\n",
    "  epochs = 10000\n",
    "  # perform iterative gradient descent\n",
    "  for epoch in range(epochs):\n",
    "    # compute the gradient\n",
    "    dW1, dw2 = gradient(X, Theta)\n",
    "\n",
    "    # update the parameters\n",
    "    Theta[0] = Theta[0] - eta * dW1\n",
    "    Theta[1]  = Theta[1] - eta * dw2\n",
    "\n",
    "  # return optimized parameters\n",
    "  return Theta"
   ]
  },
  {
   "attachments": {},
   "cell_type": "markdown",
   "metadata": {},
   "source": [
    "## Generate Datasets\n",
    "\n",
    "In total, we will test our gradient descent function with three different datasets. Particularly, we approximate:\n",
    "\n",
    "1. $X_1: t = \\sin(2x)$ for $x\\in[-2,2]$\n",
    "2. $X_2: t = e^{-2x^2}$ for $x\\in[-2,2]$\n",
    "3. $X_3: t = -x^5 - 3x^4 + 11x^3 + 27x^2 - 10x - 64$ for $x\\in[-4.5,3.5]$\n",
    "\n",
    "### Task 4\n",
    "\n",
    "Generate dataset $X_1$, for $N=50$ samples randomly drawn from range $x\\in[-2,2]$. \n",
    "Generate data $X_2$ for $N=30$ samples randomly drawn from range $x\\in[-2,2]$. \n",
    "Generate dataset $X_3$ for $N=200$ samples randomly drawn from range $x\\in[-4.5,3.5]$. \n",
    "Implement all three datasets as lists of tuples: $\\{(\\vec x^{[n]}, t^{[n]})\\mid 1\\leq n\\leq N\\}$.\n",
    "\n",
    "Note:\n",
    "\n",
    "  1. You can use `np.random.uniform` to create uniformly distributed samples for $x$.\n",
    "  2. Make sure that $\\vec x = (1, x)^T$ for each sample.\n",
    "  3. You can make use of `np.sin`, `np.exp` and `np.pow` to compute target values."
   ]
  },
  {
   "cell_type": "code",
   "execution_count": 141,
   "metadata": {},
   "outputs": [],
   "source": [
    "# X1 = [((1, x), np.sin(2 * x_)) for x_ in np.random.uniform(low=-2.0, high=2.0, size=50)]\n",
    "# X2 = [((1, x),  np.exp(-2 * x_ **2)) for x_ in np.random.uniform(low=-2.0, high=2.0, size=30)]\n",
    "# X3 = [((1, x),  -x_ ** 5 - 3 * x_**4 + 11 * x_**3 + 27 * x_**2 - 10 * x_ - 64) for x_ in np.random.uniform(low=-4.5, high=3.5, size=200)]\n",
    "\n",
    "\n",
    "     \n",
    "\n",
    "X1 = [((1, x := np.random.uniform(-2, 2, 1)[0]), np.sin(2*x)) for i in range(50)]\n",
    "X2 = [((1, x := np.random.uniform(-2, 2, 1)[0]), np.exp(-2*(x)**2)) for i in range(30)]\n",
    "X3 = [((1, x := np.random.uniform(-4.5, 3.5, 1)[0]), -x**5 - 3*x**4 + 11*x**3 + 27*x**2 - 10*x - 64) for i in range(200)]\n",
    "\n"
   ]
  },
  {
   "cell_type": "code",
   "execution_count": 142,
   "metadata": {},
   "outputs": [
    {
     "data": {
      "text/plain": [
       "[((1, 0.0986961631492127), 0.1961129643790878),\n",
       " ((1, 1.8458553610429838), -0.5227878815755223),\n",
       " ((1, 1.5718746920121753), -0.0021567287625575216),\n",
       " ((1, -0.4412055085861102), -0.7722728196076941),\n",
       " ((1, -1.328424606589012), -0.46598137226692654),\n",
       " ((1, -1.820631418993143), 0.47913607211161807),\n",
       " ((1, 0.29997050893304333), 0.5645937923571364),\n",
       " ((1, 0.5093944248380349), 0.8514735222907335),\n",
       " ((1, 1.2223524705650926), 0.6418341622195038),\n",
       " ((1, 0.5641575829230332), 0.9036920550405912),\n",
       " ((1, 1.317707642468219), 0.4848375077521499),\n",
       " ((1, 1.9114902400571179), -0.6298715541685973),\n",
       " ((1, -0.40593858347604517), -0.725580201176684),\n",
       " ((1, 0.20828315199692726), 0.4046227855727036),\n",
       " ((1, 1.971183500815103), -0.7178953692520483),\n",
       " ((1, -1.027608206570736), -0.8849451609283395),\n",
       " ((1, -1.1159135490453407), -0.7893598286781274),\n",
       " ((1, -1.0762112704386437), -0.8355703400217888),\n",
       " ((1, -1.3579488125350272), -0.41295388000564365),\n",
       " ((1, 1.1015234063229622), 0.8066996012872051),\n",
       " ((1, 0.5790741963406476), 0.9160621175927753),\n",
       " ((1, 1.233253375696008), 0.6249643788649223),\n",
       " ((1, -1.1535649175313938), -0.7409358605729143),\n",
       " ((1, 0.5918348351911429), 0.9259976522289531),\n",
       " ((1, -0.2982537983557707), -0.5617566310038792),\n",
       " ((1, -0.07785396114204746), -0.15507949592820297),\n",
       " ((1, 0.05847759943952635), 0.11668875219801428),\n",
       " ((1, 0.7826246565772119), 0.9999846153592842),\n",
       " ((1, 0.7978588765016177), 0.9996894773299235),\n",
       " ((1, 0.915662122530454), 0.9662541259563102),\n",
       " ((1, 1.373308089530782), 0.3847864747721418),\n",
       " ((1, 0.032111968039249206), 0.06417979428875194),\n",
       " ((1, 1.1241327343936858), 0.7791616126424852),\n",
       " ((1, -1.9858371213440345), 0.7379864311584902),\n",
       " ((1, 0.16075722354636923), 0.3160037661488372),\n",
       " ((1, 1.182713891432598), 0.7005478085753585),\n",
       " ((1, 1.8475891366579287), -0.525740691119108),\n",
       " ((1, 1.7767147499597393), -0.40029326459974623),\n",
       " ((1, -1.5298168653734359), -0.0818671970212411),\n",
       " ((1, 1.0154086196295289), 0.8960432132807138),\n",
       " ((1, 0.9993878784883115), 0.9098062101455504),\n",
       " ((1, 0.7139459251559588), 0.9898065203676054),\n",
       " ((1, -1.5488925833781808), -0.043793476383121095),\n",
       " ((1, -0.6199617673425255), -0.945759161034406),\n",
       " ((1, 1.0846658846401849), 0.8261616808486137),\n",
       " ((1, -0.7075754492675128), -0.9879116837105656),\n",
       " ((1, -1.011823348979887), -0.8992036329244738),\n",
       " ((1, 1.2495749542016759), 0.5991529732325676),\n",
       " ((1, 1.7670635489709832), -0.382531322104607),\n",
       " ((1, -0.07293927683908752), -0.14536170788816133)]"
      ]
     },
     "execution_count": 142,
     "metadata": {},
     "output_type": "execute_result"
    }
   ],
   "source": [
    "# x = np.random.rand(D+1)\n",
    "X1"
   ]
  },
  {
   "attachments": {},
   "cell_type": "markdown",
   "metadata": {},
   "source": [
    "### Test 2: Sanity Check\n",
    "\n",
    "The test case below assures that the elements of each generated dataset are tuples with two elements, that the first element ($\\vec x$) is a vector with two numbers, and that the second element ($t$) is a float."
   ]
  },
  {
   "cell_type": "code",
   "execution_count": 143,
   "metadata": {},
   "outputs": [
    {
     "ename": "TypeError",
     "evalue": "object of type 'bool' has no len()",
     "output_type": "error",
     "traceback": [
      "\u001b[0;31m---------------------------------------------------------------------------\u001b[0m",
      "\u001b[0;31mTypeError\u001b[0m                                 Traceback (most recent call last)",
      "Cell \u001b[0;32mIn[143], line 1\u001b[0m\n\u001b[0;32m----> 1\u001b[0m \u001b[39massert\u001b[39;00m \u001b[39mall\u001b[39;49m(\n\u001b[1;32m      2\u001b[0m     \u001b[39misinstance\u001b[39;49m(x, (\u001b[39mtuple\u001b[39;49m,\u001b[39mlist\u001b[39;49m)) \u001b[39mand\u001b[39;49;00m \n\u001b[1;32m      3\u001b[0m     \u001b[39mlen\u001b[39;49m(x) \u001b[39m==\u001b[39;49m \u001b[39m2\u001b[39;49m \u001b[39mand\u001b[39;49;00m \n\u001b[1;32m      4\u001b[0m     \u001b[39misinstance\u001b[39;49m(x[\u001b[39m0\u001b[39;49m], (\u001b[39mtuple\u001b[39;49m,\u001b[39mlist\u001b[39;49m,np\u001b[39m.\u001b[39;49mndarray)) \u001b[39mand\u001b[39;49;00m \n\u001b[1;32m      5\u001b[0m     \u001b[39mlen\u001b[39;49m(x[\u001b[39m0\u001b[39;49m] \u001b[39m==\u001b[39;49m \u001b[39m2\u001b[39;49m) \u001b[39mand\u001b[39;49;00m \n\u001b[1;32m      6\u001b[0m     \u001b[39misinstance\u001b[39;49m(x[\u001b[39m1\u001b[39;49m], \u001b[39mfloat\u001b[39;49m)\n\u001b[1;32m      7\u001b[0m     \u001b[39mfor\u001b[39;49;00m X \u001b[39min\u001b[39;49;00m (X1, X2, X3)\n\u001b[1;32m      8\u001b[0m     \u001b[39mfor\u001b[39;49;00m x \u001b[39min\u001b[39;49;00m X\n\u001b[1;32m      9\u001b[0m )\n\u001b[1;32m     11\u001b[0m \u001b[39mprint\u001b[39m(\u001b[39m'\u001b[39m\u001b[39mTest passed!\u001b[39m\u001b[39m'\u001b[39m)\n",
      "Cell \u001b[0;32mIn[143], line 5\u001b[0m, in \u001b[0;36m<genexpr>\u001b[0;34m(.0)\u001b[0m\n\u001b[1;32m      1\u001b[0m \u001b[39massert\u001b[39;00m \u001b[39mall\u001b[39m(\n\u001b[1;32m      2\u001b[0m     \u001b[39misinstance\u001b[39m(x, (\u001b[39mtuple\u001b[39m,\u001b[39mlist\u001b[39m)) \u001b[39mand\u001b[39;00m \n\u001b[1;32m      3\u001b[0m     \u001b[39mlen\u001b[39m(x) \u001b[39m==\u001b[39m \u001b[39m2\u001b[39m \u001b[39mand\u001b[39;00m \n\u001b[1;32m      4\u001b[0m     \u001b[39misinstance\u001b[39m(x[\u001b[39m0\u001b[39m], (\u001b[39mtuple\u001b[39m,\u001b[39mlist\u001b[39m,np\u001b[39m.\u001b[39mndarray)) \u001b[39mand\u001b[39;00m \n\u001b[0;32m----> 5\u001b[0m     \u001b[39mlen\u001b[39;49m(x[\u001b[39m0\u001b[39;49m] \u001b[39m==\u001b[39;49m \u001b[39m2\u001b[39;49m) \u001b[39mand\u001b[39;00m \n\u001b[1;32m      6\u001b[0m     \u001b[39misinstance\u001b[39m(x[\u001b[39m1\u001b[39m], \u001b[39mfloat\u001b[39m)\n\u001b[1;32m      7\u001b[0m     \u001b[39mfor\u001b[39;00m X \u001b[39min\u001b[39;00m (X1, X2, X3)\n\u001b[1;32m      8\u001b[0m     \u001b[39mfor\u001b[39;00m x \u001b[39min\u001b[39;00m X\n\u001b[1;32m      9\u001b[0m )\n\u001b[1;32m     11\u001b[0m \u001b[39mprint\u001b[39m(\u001b[39m'\u001b[39m\u001b[39mTest passed!\u001b[39m\u001b[39m'\u001b[39m)\n",
      "\u001b[0;31mTypeError\u001b[0m: object of type 'bool' has no len()"
     ]
    }
   ],
   "source": [
    "assert all(\n",
    "    isinstance(x, (tuple,list)) and \n",
    "    len(x) == 2 and \n",
    "    isinstance(x[0], (tuple,list,np.ndarray)) and \n",
    "    len(x[0] == 2) and \n",
    "    isinstance(x[1], float)\n",
    "    for X in (X1, X2, X3)\n",
    "    for x in X\n",
    ")\n",
    "\n",
    "print('Test passed!')"
   ]
  },
  {
   "attachments": {},
   "cell_type": "markdown",
   "metadata": {},
   "source": [
    "## Function Approximation\n",
    "\n",
    "Finally, we want to make use of our gradient descent implementation to approximate our functions. In order to see our success, we want to plot the functions together with the data.\n",
    "\n",
    "### Task 5 (theoretical question)\n",
    "\n",
    "When looking at the example plots in the exercise slides (exemplary solutions for the plotting Task 8), how many hidden neurons $K$ do we need in order to approximate the functions? Is there any difference\n",
    "1 between the three target functions?"
   ]
  },
  {
   "cell_type": "code",
   "execution_count": null,
   "metadata": {},
   "outputs": [],
   "source": [
    "K1 = ...\n",
    "K2 = ...\n",
    "K3 = ..."
   ]
  },
  {
   "attachments": {},
   "cell_type": "markdown",
   "metadata": {},
   "source": [
    "### Task 6\n",
    "\n",
    "For each of the datasets, randomly initialize the parameters $\\Theta_1,\\Theta_2,\\Theta_3\\in[-1,1]$ according to the number of hidden neurons estimated in Task 5.\n",
    "\n",
    "Note:\n",
    "\n",
    "  1. You can use `np.random.uniform` to initialize the weights.\n",
    "  2. Make sure that the weight matrices are instantiated in the correct dimensions."
   ]
  },
  {
   "cell_type": "code",
   "execution_count": null,
   "metadata": {},
   "outputs": [],
   "source": [
    "Theta1 = ...\n",
    "Theta2 = ...\n",
    "Theta3 = ..."
   ]
  },
  {
   "attachments": {},
   "cell_type": "markdown",
   "metadata": {},
   "source": [
    "### Task 7\n",
    "\n",
    "Call gradient descent function from Task 3 using the datasets $X_1, X_2, X_3$, the according created parameters $\\Theta_1,\\Theta_2,\\Theta_3$ and a learning rate of $\\eta=0.1$. Store the resulting optimized weights $\\Theta_1^*, \\Theta_2^*, \\Theta_3^*$ and the loss values.\n",
    "\n",
    "Optimize the learning rate $\\eta$ for each of the three functions. Do you see any differences? What are the best learning rates that you can find?\n",
    "\n",
    "WARNING: Depending on the implementation, this might run for several minutes!"
   ]
  },
  {
   "cell_type": "code",
   "execution_count": null,
   "metadata": {},
   "outputs": [],
   "source": [
    "...\n",
    "...\n",
    "..."
   ]
  },
  {
   "attachments": {},
   "cell_type": "markdown",
   "metadata": {},
   "source": [
    "## Data and Function Plotting\n",
    "\n",
    "### Task 8\n",
    "\n",
    "Implement a plotting function that takes a given dataset $X$, given parameters $\\Theta$ and a defined range $R$. Each data sample $(x^{[n]},t^{[n]})$ of the dataset is plotted as an $''x''$. In order to plot the function that is approximated by the network, generate sufficient equally-spaced input values $x\\in R$, compute the network output $y$ for these inputs, and plot them with a line.\n",
    "\n",
    "Note:\n",
    "\n",
    "  1. The dataset $X$ is defined as above, a list of tuples $(\\vec x, t)$.\n",
    "  2. Each input in the dataset is defined as $\\vec x = (1,x)^T$.\n",
    "  3. Equidistant points can be obtained via `np.arange`."
   ]
  },
  {
   "cell_type": "code",
   "execution_count": null,
   "metadata": {},
   "outputs": [],
   "source": [
    "from matplotlib import pyplot\n",
    "def plot(X, Theta, R):\n",
    "  # first, plot data samples\n",
    "  pyplot.plot(..., ..., \"rx\", label=\"Data\")\n",
    "\n",
    "  # define equidistant points from R[0] to R[1] to evaluate the network\n",
    "  x = ...\n",
    "  # compute the network outputs for these values\n",
    "  y = ...\n",
    "  # plot network approximation\n",
    "  pyplot.plot(x,y,\"k-\", label=\"network\")\n",
    "  pyplot.legend()"
   ]
  },
  {
   "attachments": {},
   "cell_type": "markdown",
   "metadata": {},
   "source": [
    "### Task 9\n",
    "\n",
    "For each of the datasets and their according optimized parameters, call the plotting function from Task 8. Use range $R=[-3,3]$ for dataset $X_1$ and $X_2$, and range $R=[-5.5,4.5]$ for dataset $X_3$. Note that the first element of range $R$ should be the lowest $x$-location, and the second element of $R$ the highest value for $x$. Did the networks approximate the functions? What can we do if not?"
   ]
  },
  {
   "cell_type": "code",
   "execution_count": null,
   "metadata": {},
   "outputs": [],
   "source": [
    "figure = pyplot.figure(figsize=(10,3))\n",
    "\n",
    "# plot first function\n",
    "pyplot.subplot(131)\n",
    "...\n",
    "\n",
    "# plot second function\n",
    "pyplot.subplot(132)\n",
    "...\n",
    "\n",
    "# plot third function\n",
    "pyplot.subplot(133)\n",
    "..."
   ]
  }
 ],
 "metadata": {
  "interpreter": {
   "hash": "2dd53f8ad749bca69f7250ce75eb4f0def59db5cf79075a9716322ffc58e8a2e"
  },
  "kernelspec": {
   "display_name": "Python 3 (ipykernel)",
   "language": "python",
   "name": "python3"
  },
  "language_info": {
   "codemirror_mode": {
    "name": "ipython",
    "version": 3
   },
   "file_extension": ".py",
   "mimetype": "text/x-python",
   "name": "python",
   "nbconvert_exporter": "python",
   "pygments_lexer": "ipython3",
   "version": "3.10.9"
  },
  "orig_nbformat": 4
 },
 "nbformat": 4,
 "nbformat_minor": 2
}
