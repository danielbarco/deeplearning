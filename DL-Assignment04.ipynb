{
  "cells": [
    {
      "attachments": {},
      "cell_type": "markdown",
      "metadata": {
        "id": "9DKZj8jK_Dry"
      },
      "source": [
        "# Assignment 4: Multi-Output Networks and Batch Processing\n",
        "\n",
        "\n",
        "The goal of this exercise is to get to know some regularization techniques when implementing deep learning methods.\n",
        "For this purpose, we select a dataset that contains data in different formats, some binary ($x_d \\in \\{-1,1\\}$) and some numerical ($x_d\\in \\mathbb N$); and some are categorical, which we ignore for now.\n",
        "As target values, this dataset contains three numerical outputs, so, $\\vec t \\in \\mathbb R^3$ for each sample.\n",
        "These target values should be approximated with a two-layer multi-output network that we will train with the $\\mathcal J^{L_2}$ loss.\n",
        "\n",
        "\n",
        "\n",
        "Remember to make use of `np` in the matrix calculation, e.g. `np.dot`, `np.exp`, `np.mean` \n"
      ]
    },
    {
      "attachments": {},
      "cell_type": "markdown",
      "metadata": {
        "id": "5lrQLreklXtS"
      },
      "source": [
        "## Dataset\n",
        "\n",
        "The dataset of our choice is the Student Performance estimation dataset that was collected in Portugal in two different schools and with two different subjects, i.e., math and Portuguese (the mother tongue).\n",
        "The dataset contains many different inputs such as a binary representation of the school, gender, family sizes, and alike, as well as numerical representations of age, travel time, and alcohol consumption.\n",
        "The dataset also includes some categorical data, which we skip in this assignment.\n",
        "See https://archive.ics.uci.edu/ml/datasets/Student+Performance for more information on the dataset.\n",
        "As a start, we will rely on the Portuguese performance (`\"por\"`), but you can also try to use the Math samples (`\"mat\"`)."
      ]
    },
    {
      "attachments": {},
      "cell_type": "markdown",
      "metadata": {
        "id": "HSol7VoalR-7"
      },
      "source": [
        "### Task 1: Dataset Loading\n",
        "\n",
        "\n",
        "Load the dataset from files and provide the input matrix $\\mathbf X \\in \\mathbb R^{(D+1)\\times N}$ and the output matrix $\\mathbf T \\in \\mathbb R^{O\\times N}$.\n",
        "\n",
        "Due to the difficulty of the task, most of the implementation is provided.\n",
        "The implementation is very literal and, therefore, hopefully readable, while maybe not the most efficient.\n",
        "\n",
        "We skip categorical inputs (indexes 8-11) for now.\n",
        "All other entries are converted either into binary $(-1,1)$ or into an integer range $(0,1,\\ldots)$.\n",
        "The three outputs range between 0 and 20 each. The bias value for $x_0=1$ is also already included.\n",
        "You just need to make sure that the data $(X,T)$ is returned in the desired format."
      ]
    },
    {
      "cell_type": "code",
      "execution_count": 55,
      "metadata": {
        "id": "wE3DlW-e_Dr1"
      },
      "outputs": [],
      "source": [
        "import math\n",
        "import numpy as np\n",
        "import os\n",
        "\n",
        "# Dataset origin: https://archive.ics.uci.edu/ml/datasets/Student+Performance\n",
        "\n",
        "def dataset(course=\"por\"):\n",
        "  # load dataset and provide input and target data\n",
        "  # possible data files are \"mat\" and \"por\"\n",
        "\n",
        "  # download data file from URL\n",
        "  dataset_zip_file = \"student.zip\"\n",
        "  if not os.path.exists(dataset_zip_file):\n",
        "    import urllib.request\n",
        "    urllib.request.urlretrieve(\"https://archive.ics.uci.edu/ml/machine-learning-databases/00320/student.zip\", dataset_zip_file)\n",
        "    print (\"Downloaded datafile\", dataset_zip_file)\n",
        "\n",
        "  import zipfile\n",
        "  import csv\n",
        "  import io\n",
        "\n",
        "  # collect inputs\n",
        "  inputs = []\n",
        "  targets = []\n",
        "  # some default values: yes=1, no=-1\n",
        "  yn = {\"yes\":1.,\"no\":-1.}\n",
        "  # read through dataset (without actually unzippiung to a file):\n",
        "  # ... open zip file\n",
        "  zip = zipfile.ZipFile(dataset_zip_file)\n",
        "  # ... open data file inside of zip file and convert bytes to text\n",
        "  datafile = io.TextIOWrapper(zip.open(os.path.join(F\"student-{course}.csv\"), 'r'))\n",
        "  # ... read through the lines via CSV reader, using the correct delimited\n",
        "  reader = csv.reader(datafile, delimiter=\";\")\n",
        "  # ... skip header line\n",
        "  next(reader)\n",
        "  for splits in reader:\n",
        "    # read input values\n",
        "    inputs.append([\n",
        "      1.,                             #### BIAS ####\n",
        "      {\"GP\":1.,\"MS\":-1.}[splits[0]],  # school\n",
        "      {\"M\":1.,\"F\":-1.}[splits[1]],    # gender\n",
        "      float(splits[2]),               # age\n",
        "      {\"U\":1.,\"R\":-1.}[splits[3]],    # address\n",
        "      {\"LE3\":1.,\"GT3\":-1.}[splits[4]],# family size\n",
        "      {\"T\":1.,\"A\":-1.}[splits[5]],    # parents living together\n",
        "      float(splits[6]),               # mother education\n",
        "      float(splits[7]),               # father education\n",
        "      # skip categorical values\n",
        "      float(splits[12]),              # travel time\n",
        "      float(splits[13]),              # study time\n",
        "      float(splits[14]),              # failures\n",
        "      yn[splits[15]],                 # extra support\n",
        "      yn[splits[16]],                 # family support\n",
        "      yn[splits[17]],                 # paid support\n",
        "      yn[splits[18]],                 # activities\n",
        "      yn[splits[19]],                 # nursery school\n",
        "      yn[splits[20]],                 # higher education\n",
        "      yn[splits[21]],                 # internet\n",
        "      yn[splits[22]],                 # romantic\n",
        "      float(splits[23]),              # family relation\n",
        "      float(splits[24]),              # free time\n",
        "      float(splits[25]),              # going out\n",
        "      float(splits[26]),              # workday alcohol\n",
        "      float(splits[27]),              # weekend alcohol\n",
        "      float(splits[28]),              # health\n",
        "      float(splits[29]),              # absences\n",
        "    ])\n",
        "\n",
        "    # read targets values\n",
        "    targets.append([\n",
        "      float(splits[30]),              # grade for primary school\n",
        "      float(splits[31]),              # grade for secondary school\n",
        "      float(splits[32]),              # grade for tertiary school\n",
        "    ])\n",
        "\n",
        "  print(F\"Loaded dataset with {len(targets)} samples\")\n",
        "  # ?? why transpose the inputs?\n",
        "  return np.array(inputs).T, np.array(targets).T"
      ]
    },
    {
      "cell_type": "markdown",
      "metadata": {
        "id": "FWNwt2Rb_Dr3"
      },
      "source": [
        "### Test 1: Assert Valid Outputs\n",
        "\n",
        "This test will check the dimension of the loaded dataset, i.e. $\\mathbf X\\in \\mathbb R^{(D+1)\\times N}$ and $\\mathbf T \\in \\mathbb R^{O\\times N}$, and also assure that all target data is in the range $t\\in[0,20]$.\n",
        "\n",
        "Please make sure that your implementation can pass these tests before moving to the next task"
      ]
    },
    {
      "cell_type": "code",
      "execution_count": 63,
      "metadata": {
        "colab": {
          "base_uri": "https://localhost:8080/"
        },
        "id": "jaCpzc-l_Dr3",
        "outputId": "6fefb52a-492d-489a-aec3-156623dd939c"
      },
      "outputs": [
        {
          "name": "stdout",
          "output_type": "stream",
          "text": [
            "Loaded dataset with 649 samples\n"
          ]
        }
      ],
      "source": [
        "X, T = dataset(\"por\")\n",
        "\n",
        "assert np.all(T >= 0) and np.all(T <= 20)\n",
        "\n",
        "assert X.shape[0] == 27\n",
        "assert T.shape[0] == 3\n",
        "assert T.shape[1] == X.shape[1]"
      ]
    },
    {
      "attachments": {},
      "cell_type": "markdown",
      "metadata": {
        "id": "dfk_P5eG_Dr3"
      },
      "source": [
        "### Task 2: Input Data Standardization\n",
        "\n",
        "Since the data is in different input regimes, we want to standardize the data.\n",
        "For this purpose, we need to compute the mean and the standard deviation of the data for each input dimension.\n",
        "Then, we implement a function to perform the standardization of the data using the previously computed mean and standard deviation. Make sure that you handle the bias neuron $x_0$ correctly.\n",
        "\n",
        "Please note that `np` has all the functionality that you need."
      ]
    },
    {
      "cell_type": "code",
      "execution_count": 64,
      "metadata": {
        "id": "0bUpUAHR_Dr3"
      },
      "outputs": [
        {
          "name": "stdout",
          "output_type": "stream",
          "text": [
            "x shape prior standardisation:  (27, 649)\n",
            "x mean prior standardisation:  1.800490783541631\n",
            "x shape standardised:  (27, 649)\n",
            "x mean standardised:  0.0027392569765451106\n"
          ]
        }
      ],
      "source": [
        "# compute mean and standard deviation over dataset\n",
        "mean = np.mean(X, axis=0)\n",
        "std = np.std(X, axis=0)\n",
        "# assure to handle x_0 correctly\n",
        "mean[0]=0 #mean[0] is the mean of the first element of the X-vector, i.e. the bias neuron\n",
        "std[0]=1 #avoid division by 0\n",
        "\n",
        "def standardize(x, mean, std):\n",
        "  # standardize the given data with the given mean and standard deviation\n",
        "  # why standardize by subject (649) and not standardise coefficient (27?\n",
        "  # we standardise by parameter and for this,  \n",
        "  # we substract the mean from each subject & parameter\n",
        "  return (x - mean) / std\n",
        "\n",
        "print('x shape prior standardisation: ', X.shape)\n",
        "print('x mean prior standardisation: ', X.mean())\n",
        "\n",
        "# standardize our dataset\n",
        "X = standardize(X, mean, std)\n",
        "print('x shape standardised: ', X.shape)\n",
        "print('x mean standardised: ', X.mean())\n",
        "\n",
        "\n"
      ]
    },
    {
      "attachments": {},
      "cell_type": "markdown",
      "metadata": {
        "id": "6MZ_MPc-_Dr4"
      },
      "source": [
        "### Task 3: Batch Processing\n",
        "\n",
        "In order to run stochastic gradient descent, we need to split our dataset into batches of a certain batch size $B$. Implement a function that turns the dataset $(X,T)$ into batches of a certain batch size $B$.\n",
        "Implement this function as a generator function, i.e., use ``yield`` instead of ``return``.\n",
        "Circulate the dataset afresh when all data is consumed, and shuffle the data in each epoch.\n",
        "Make sure that you yield both the input batch and the target batch."
      ]
    },
    {
      "cell_type": "code",
      "execution_count": 96,
      "metadata": {},
      "outputs": [
        {
          "data": {
            "text/plain": [
              "array([579, 428, 527, 133, 448, 280, 604, 157, 639, 643, 276, 593, 533,\n",
              "       264, 470, 420,  14,  87, 463, 150, 442, 201, 640, 325, 121, 115,\n",
              "       132, 294, 491, 130, 610, 636, 346, 486, 555, 632, 355,  53, 437,\n",
              "        23, 138, 594, 197,  39, 406, 310, 327, 204, 595, 378, 349,  52,\n",
              "        33, 508, 222, 259, 161, 173,  56, 175, 185, 256, 568,  57, 386,\n",
              "       269,  17, 316,  11, 372, 611, 134, 228, 101, 469, 576,  64, 336,\n",
              "       126,  81,  28, 165, 627, 472, 223, 187, 621,  15, 541, 213,  90,\n",
              "       513, 266, 135, 609, 200, 329, 234, 440, 457, 176, 362, 510, 597,\n",
              "       244,  69,  44,  32, 168, 304,  30, 507,   6, 342, 607, 431,  78,\n",
              "       477, 456, 629, 476,  77, 369, 360, 281, 430, 443, 207, 435, 423,\n",
              "       191,  94, 462,  46, 526, 381, 251, 546, 297, 425,  82, 318, 155,\n",
              "        10, 561, 547, 414, 384, 416, 615, 169, 282, 549,  91, 475, 361,\n",
              "       335, 263, 139, 478, 181, 149, 211, 268,  74, 412,  49, 306, 302,\n",
              "       352, 434, 417, 170, 332, 503, 203, 402, 634, 450, 245,  41, 580,\n",
              "       496, 198, 601, 196, 367, 229, 647, 154, 413, 535, 240, 285, 410,\n",
              "        70, 501, 606, 206, 433, 391, 630, 227, 444,  96, 451,  88, 162,\n",
              "        25, 326, 209, 237, 465, 454, 363, 136, 422, 401, 567, 308, 489,\n",
              "       144, 392, 109,  60, 544, 458, 426, 217, 624, 284, 125, 490, 305,\n",
              "       473, 137, 226, 548, 147,  83, 337,  55, 573, 460, 498, 353,  35,\n",
              "       585, 505, 492, 267, 320, 252, 575, 291, 129, 570, 404, 582, 408,\n",
              "       380, 113, 167, 519, 350, 525, 145, 324,  21, 536, 319, 452, 370,\n",
              "       184, 289, 190, 464, 596, 177, 468, 312, 644, 104, 449, 538, 131,\n",
              "       432, 581, 202, 557, 405, 418, 550,  20, 365, 407, 218, 242, 102,\n",
              "       605, 328, 514, 633,  29,  95,  43, 146, 480, 368,  63, 271, 290,\n",
              "       529, 566, 543, 515, 358, 158, 534, 275, 224, 645, 578,  16, 119,\n",
              "        38, 628,  71, 321, 248, 516, 429,  73, 171,  24, 483, 598, 400,\n",
              "       192, 210, 559, 118, 641, 255, 506, 517, 178, 531,  42, 562, 584,\n",
              "       530, 427, 283, 488, 340, 124, 339, 261, 317, 537, 577, 123, 235,\n",
              "       455, 160, 471, 411,  59, 272, 140, 194,   2, 482,  58, 262, 383,\n",
              "        22,  27,  89, 493, 587, 278, 590, 616,  26, 238, 393, 343, 274,\n",
              "       511, 560, 446,  85, 253,  67, 502, 265, 625, 379,  68, 377, 309,\n",
              "       221, 600, 586, 216, 182, 438,  40, 556, 338, 105,  75,  80, 333,\n",
              "       551, 106, 120,  86, 225, 631, 542, 188, 646,   3, 142, 172, 111,\n",
              "       436, 617, 214, 220, 286, 638,  18, 618,  97,  47, 574, 623,   0,\n",
              "        37, 602, 122, 394, 348,  54, 481, 484, 572, 396, 571, 100,   7,\n",
              "       208, 552, 295, 399, 232, 303, 589, 205, 500,  62,  98, 485, 164,\n",
              "       103,  84, 521, 419, 545, 403, 311, 236, 231, 143, 494, 108,   4,\n",
              "       250, 613, 642, 619,   1, 152, 495, 569, 532, 292, 114, 524, 127,\n",
              "       620, 553, 293, 424, 112, 389, 249,  99, 199, 331, 397,  65, 300,\n",
              "       467, 459, 612, 258,  45, 301, 390, 322, 257,   5, 504, 603, 522,\n",
              "       189,  50, 296, 528,  76, 195, 351, 163, 474,  31,  36, 288, 247,\n",
              "       374, 230, 466, 141, 366, 588,  34, 156, 233, 499, 382, 183, 453,\n",
              "        13, 341, 563, 487, 583, 648,  51, 299,  93, 608, 277, 356, 637,\n",
              "       540, 313,  19, 243, 439, 107, 395, 159,   9, 375, 387, 279, 174,\n",
              "       398, 599, 518, 215, 564, 219, 497, 376, 635, 626, 364, 447, 110,\n",
              "       520, 148, 558,  72, 239, 354, 186, 445, 116, 254, 523, 388, 345,\n",
              "       509, 246, 441, 359, 385, 512, 565, 330, 298, 179, 128, 592, 212,\n",
              "       614, 479, 241, 357,   8, 334, 591, 539, 193, 260, 307, 180, 315,\n",
              "       371, 554,  12,  48, 323, 461, 344, 117, 270, 373, 287,  61,  79,\n",
              "        66, 421, 151, 347, 166, 153,  92, 409, 273, 622, 415, 314])"
            ]
          },
          "execution_count": 96,
          "metadata": {},
          "output_type": "execute_result"
        }
      ],
      "source": [
        "indices = np.random.permutation(X.shape[1])\n",
        "indices"
      ]
    },
    {
      "cell_type": "code",
      "execution_count": 109,
      "metadata": {
        "id": "GoDHo80J_Dr4"
      },
      "outputs": [],
      "source": [
        "def batch(X, T, batch_size=16):\n",
        "  counter = 0\n",
        "  while counter < X.shape[1]:\n",
        "    counter += 1\n",
        "    # shuffle dataset in each epoch\n",
        "    # we shuffle the patients not the coefficients \n",
        "    indices = np.random.permutation(X.shape[1])\n",
        "    # yield the batch\n",
        "    # first select the patients, then the first # patients according to batchsize\n",
        "    yield X[:,indices][:,:batch_size], T[:,indices][:,:batch_size]\n",
        "    "
      ]
    },
    {
      "attachments": {},
      "cell_type": "markdown",
      "metadata": {
        "id": "NgBsBOsa_Dr4"
      },
      "source": [
        "### Test 2: Test your Batches\n",
        "\n",
        "This test is to assure that your batch generation function works as expected. \n",
        "We define some test data for this purpose.\n",
        "The code below checks whether your batch function returns batches with correct content, i.e., $(\\vec x, \\vec t)$-alignment. \n",
        "It also checks that the batches are in the correct dimensions, i.e., that $\\mathbf X \\in \\mathbb R^{(D+1)\\times B}$ and $\\mathbf T \\in \\mathbb R^{O\\times B}$.\n",
        "\n",
        "Make sure you can pass this test before moving forward."
      ]
    },
    {
      "cell_type": "code",
      "execution_count": 110,
      "metadata": {
        "id": "fFndxbf1_CmR"
      },
      "outputs": [],
      "source": [
        "XX = np.array([[i] * 5 for i in range(50)]).T\n",
        "TT = np.array([[i] for i in range(10,60)]).T\n",
        "for counter, (x,t) in enumerate(batch(XX, TT, 16)):\n",
        "  assert x.shape[0] == 5\n",
        "  assert x.shape[1] == 16\n",
        "  assert t.shape[0] == 1\n",
        "  assert t.shape[1] == 16\n",
        "  assert np.all(x == t-10)\n",
        "  if counter == 20: break"
      ]
    },
    {
      "attachments": {},
      "cell_type": "markdown",
      "metadata": {
        "id": "0B8o_mE1l6mp"
      },
      "source": [
        "## Gradient Descent\n",
        "\n",
        "To train a two-layer multi-output regression network, we need to implement some functions.\n",
        "The network output is computed in three steps:\n",
        "\n",
        "  * Compute network activation for a batch of inputs $\\mathbf X$: $\\mathbf A = \\mathbf W^{(1)}\\mathbf X$\n",
        "  * Call the activation function element-wise: $\\mathbf H = g(\\mathbf A)$. Here, we rely on the logistic activation function $\\sigma$. Assure that the hidden neuron bias $\\mathbf H_{0,:}$ is set appropriately.\n",
        "  * Compute the output $\\mathbf Y$ of the batch: $\\mathbf Y = \\mathbf W^{(2)}\\mathbf H$."
      ]
    },
    {
      "attachments": {},
      "cell_type": "markdown",
      "metadata": {
        "id": "0pGCwC0L_Dr4"
      },
      "source": [
        "### Task 4: Multi-Output Network\n",
        "\n",
        "Implement a multi-target network that computes the output matrix $\\mathbf Y$ for a given input dataset/batch $\\mathbf X$ and given parameters $\\Theta=(\\mathbf W^{(1)}, \\mathbf W^{(2)})$ using `np` operations. \n",
        "The function should return both the output $\\mathbf Y$ and the output of the hidden units $\\mathbf H$ since we will need these in gradient descent. Select the logistic function $\\sigma$ as the activation function."
      ]
    },
    {
      "cell_type": "code",
      "execution_count": 166,
      "metadata": {
        "id": "j1gErN4z_Dr4"
      },
      "outputs": [],
      "source": [
        "def network(X, Theta):\n",
        "  W1, W2 = Theta\n",
        "\n",
        "  # compute activation\n",
        "  A = np.dot(W1, X)\n",
        "\n",
        "  # compute hidden unit output\n",
        "  # using omega function from slides\n",
        "  H = 1 / 1 + np.exp(-A)\n",
        "  H[0] = 1 # bias neuron\n",
        "\n",
        "  # compute network output\n",
        "  Y = np.dot(W2, A)\n",
        "\n",
        "  return Y, H"
      ]
    },
    {
      "attachments": {},
      "cell_type": "markdown",
      "metadata": {
        "id": "Zt0CMab4_Dr5"
      },
      "source": [
        "### Task 5: Loss Implementation\n",
        "\n",
        "Implement a loss function that returns the squared loss $\\mathcal J^{L_2} = \\frac1B \\|\\mathbf Y - \\mathbf T\\|_F^2$ for given network outputs $\\mathbf Y$ and target values $\\mathbf T$.\n",
        "Use `np` or `scipy` functionality for this task."
      ]
    },
    {
      "cell_type": "code",
      "execution_count": 175,
      "metadata": {
        "id": "RSwKiqIc_Dr5"
      },
      "outputs": [],
      "source": [
        "def loss(Y, T):\n",
        "  N=T.shape[1]\n",
        "  return 1/N*np.linalg.norm(Y-T, \"fro\")**2 #Frobenius norm"
      ]
    },
    {
      "attachments": {},
      "cell_type": "markdown",
      "metadata": {
        "id": "fD2srCKN_Dr5"
      },
      "source": [
        "### Task 6: Gradient Implementation\n",
        "\n",
        "Implement a function that computes and returns the gradient for a given batch $(\\mathbf X, \\mathbf T)$, the given network outputs $\\mathbf Y$ and $\\mathbf H$ as well as current parameters $\\Theta=(\\mathbf W^{(1)}, \\mathbf W^{(2)})$.\n",
        "Make sure to compute the gradient with respect to both weight matrices. Remember that we have used $\\sigma$ as the activation function.\n",
        "Implement the function using the fast version provided in the lecture and make use of `np` operations."
      ]
    },
    {
      "cell_type": "code",
      "execution_count": 176,
      "metadata": {
        "id": "Qe8QYVnP_Dr5"
      },
      "outputs": [],
      "source": [
        "def gradient(X, T, Y, H, Theta):\n",
        "  W1, W2 = Theta\n",
        "\n",
        "  # first layer gradient\n",
        "  g1 = 2/len(T) * np.dot( (np.dot(W2.T,(Y-T)) * (1-H**2)) ,X.T)\n",
        "  # second layer gradient\n",
        "  g2 = 2/len(T) * (np.dot((Y-T), H.T))\n",
        "  \n",
        "  return g1, g2"
      ]
    },
    {
      "attachments": {},
      "cell_type": "markdown",
      "metadata": {
        "id": "CpeCOHbE_Dr5"
      },
      "source": [
        "### Task 7: Iterative Gradient Descent\n",
        "\n",
        "\n",
        "Implement gradient descent for a given number of 10'000 epochs (**not batches!**) using given initial parameters $\\Theta$ and a given batch size $B$, as well as a learning rate of $\\eta=0.001$.\n",
        "\n",
        "Make use of the standardized dataset from Task 2, split into batches with the function from Task 3, the network from Task 4, the loss from Task 5, and the gradient from Task 6.\n",
        "\n",
        "Make sure that the network output $\\mathbf Y$ and the hidden unit output $\\mathbf H$ are computed only once for each batch. After applying gradient descent, add an option to use momentum learning with the given parameter `mu`.\n",
        "At the end of each epoch, compute and store the loss values for each batch in a list, and this list will be returned at the end.\n",
        "\n",
        "How many iterations do we need when $B < N$? How can you know whether your current batch is the last one of the current epoch?"
      ]
    },
    {
      "cell_type": "code",
      "execution_count": 180,
      "metadata": {
        "id": "QnuFqkg-82l2"
      },
      "outputs": [],
      "source": [
        "def gradient_descent(X, T, Theta, B , eta=0.001, mu=None):\n",
        "  loss_values = []\n",
        "\n",
        "  max_epochs = 100000\n",
        "  # gradient descent without batches\n",
        "    # iterate over batches\n",
        "  for n, (x,t) in enumerate(batch(X, T, batch_size=B)):\n",
        "      # compute network output\n",
        "      Y, H = network(x, Theta)\n",
        "      # compute and append loss\n",
        "      loss_values.append(loss(Y, t))\n",
        "\n",
        "      # compute gradient\n",
        "      g1, g2 = gradient(x, t, Y, H, Theta)\n",
        "      # and apply gradient descent\n",
        "      Theta[0] -= eta * g1\n",
        "      \n",
        "      # apply momentum learning if asked\n",
        "      if mu is not None:\n",
        "        Theta[1] = mu * Theta[1] - eta * g2\n",
        "        \n",
        "      else:\n",
        "        Theta[1] -= eta * g2\n",
        "\n",
        "      if (n >= max_epochs):\n",
        "        break\n",
        "      \n",
        "\n",
        "  # return the obtained loss values at the end\n",
        "  return loss_values"
      ]
    },
    {
      "cell_type": "code",
      "execution_count": 184,
      "metadata": {},
      "outputs": [],
      "source": [
        "def gradient_descent(X, T, Theta, B, eta=0.001, mu= None):\n",
        "  loss_values = []\n",
        "  (W1, W2) = Theta\n",
        "  max_epochs = 10000\n",
        "  epoch = 0\n",
        "  data_num = 0\n",
        "  x_ticks = []\n",
        "  # iterate over batches\n",
        "  gen = batch(X, T, batch_size=B)\n",
        "  for c, (x, t) in enumerate(gen):\n",
        "    # compute network output\n",
        "    (y, h) = network(x, (W1, W2))\n",
        "\n",
        "    # compute gradient\n",
        "    (g1, g2) = gradient(x, t, y, h, (W1, W2))\n",
        "\n",
        "    # compute and append loss\n",
        "    l = loss(y, t)\n",
        "\n",
        "    # and apply gradient descent\n",
        "    W1 -= eta * g1 \n",
        "    if mu is not None:\n",
        "      W2 = mu * Theta[1] - eta * g2\n",
        "    else:\n",
        "      W2 -= eta * g2\n",
        "\n",
        "    data_num += B\n",
        "    if data_num > len(T[0]):\n",
        "      epoch += 1\n",
        "      data_num = 0\n",
        "      loss_values.append(l)\n",
        "      if (epoch >= max_epochs):\n",
        "        break\n",
        "\n",
        "  # return the obtained loss values at the end\n",
        "  return loss_values"
      ]
    },
    {
      "attachments": {},
      "cell_type": "markdown",
      "metadata": {
        "id": "NIvoljpW_Dr5"
      },
      "source": [
        "### Task 8: Run Gradient Descent\n",
        "\n",
        "Select an appropriate number of hidden neurons $K$.\n",
        "Instantiate the weight matrices $\\Theta=(\\mathbf W^{(1)}, \\mathbf W^{(2)})$ using the Xavier method as introduced in the lecture.\n",
        "\n",
        "Run the gradient descent three times, first as normal gradient descent, second as stochastic gradient descent with batch size $B=16$, and third with the same setup as the second but with momentum learning involved, select $\\mu =0.9$.\n",
        "\n",
        "How can you achieve this without requiring separate implementations of the ``gradient_descent`` function from Task 7?"
      ]
    },
    {
      "cell_type": "code",
      "execution_count": 188,
      "metadata": {
        "id": "r4BnX1m8_Dr6"
      },
      "outputs": [
        {
          "name": "stderr",
          "output_type": "stream",
          "text": [
            "/var/folders/hw/y61sswm55ss5_mz_3jfglnh03lrr77/T/ipykernel_32219/1917897928.py:9: RuntimeWarning: overflow encountered in exp\n",
            "  H = 1 / 1 + np.exp(-A)\n",
            "/var/folders/hw/y61sswm55ss5_mz_3jfglnh03lrr77/T/ipykernel_32219/4629046.py:5: RuntimeWarning: overflow encountered in square\n",
            "  g1 = 2/len(T) * np.dot( (np.dot(W2.T,(Y-T)) * (1-H**2)) ,X.T)\n",
            "/var/folders/hw/y61sswm55ss5_mz_3jfglnh03lrr77/T/ipykernel_32219/4629046.py:5: RuntimeWarning: invalid value encountered in multiply\n",
            "  g1 = 2/len(T) * np.dot( (np.dot(W2.T,(Y-T)) * (1-H**2)) ,X.T)\n"
          ]
        }
      ],
      "source": [
        "K = 5\n",
        "D = X.shape[0]\n",
        "O = T.shape[0]\n",
        "# Xavier initialization\n",
        "W1 = np.random.randn(K, D) / np.sqrt(D)\n",
        "W2 = np.random.randn(O, K) / np.sqrt(K)\n",
        "Theta = [W1, W2]\n",
        "\n",
        "import copy\n",
        "\n",
        "# run gradient descent with full dataset\n",
        "Theta1 = copy.deepcopy(Theta)\n",
        "GD = gradient_descent(X, T, Theta1, X.shape[1])\n",
        "\n",
        "# run stochastic gradient descent with batches of size 16\n",
        "Theta2 = copy.deepcopy(Theta)\n",
        "SGD = gradient_descent(X, T, Theta2, 16)\n",
        "\n",
        "# run stochastic gradient descent with batches of size 16 and momentum mu=0.9\n",
        "Theta3 = copy.deepcopy(Theta)\n",
        "SGD_Mo = gradient_descent(X, T, Theta2, 16, mu=0.9)"
      ]
    },
    {
      "cell_type": "markdown",
      "metadata": {
        "id": "Mi5Wt88CnsNB"
      },
      "source": [
        "## Evaluation\n",
        "\n",
        "Finally, we want to evaluate how the learning process went and what the network has actually learned.\n",
        "For the former, we will plot the loss values obtained during training.\n",
        "For the latter, we define one specific sample of our own, and we evaluate the impact of several factors on the performance."
      ]
    },
    {
      "cell_type": "markdown",
      "metadata": {
        "id": "t1CGUw7k_Dr6"
      },
      "source": [
        "### Task 9: Plotting Loss Progression\n",
        "\n",
        "To show the learning process of the networks, plot the loss values of the three gradient descent steps from Task 8 together into one plot.\n",
        "Do we need to take care of something when plotting both together?\n",
        "\n",
        "Use logarithmic axes wherever you see fit.\n",
        "An exemplary loss progression plot can be found in the slides.\n",
        "\n"
      ]
    },
    {
      "cell_type": "code",
      "execution_count": 186,
      "metadata": {
        "id": "wMFMvuRg_Dr6"
      },
      "outputs": [
        {
          "data": {
            "text/plain": [
              "<matplotlib.legend.Legend at 0x167cdfc40>"
            ]
          },
          "execution_count": 186,
          "metadata": {},
          "output_type": "execute_result"
        },
        {
          "data": {
            "image/png": "[encoded data removed]",
            "text/plain": [
              "<Figure size 640x480 with 1 Axes>"
            ]
          },
          "metadata": {},
          "output_type": "display_data"
        }
      ],
      "source": [
        "from matplotlib import pyplot\n",
        "\n",
        "pyplot.plot(SGD, \"b-\", label=\"Stochastic Gradient Descent\")\n",
        "pyplot.plot(SGD_Mo, \"r-\", label=\"Stochastic Gradient Descent with Momentum\")\n",
        "pyplot.plot(GD, \"g-\", label=\"Gradient Descent\")\n",
        "pyplot.legend()"
      ]
    },
    {
      "attachments": {},
      "cell_type": "markdown",
      "metadata": {
        "id": "sDJp99mK_Dr6"
      },
      "source": [
        "### Task 10: Example Evaluation (optional)\n",
        "\n",
        "We want to see what the network has learned.\n",
        "Therefore, we evaluate some data points that would represent a typical Swiss student (except for the school entry, where we select one of them randomly).\n",
        "You can select a specific example, but you can also imagine a student.\n",
        "Please refer to https://archive.ics.uci.edu/ml/datasets/Student+Performance on possible values and the implementation in Tasks 1 and 2 on how to generate an input sample $\\vec x$ for our network. Also, remember that input data need to be standardized before feeding it to the network. \n",
        "\n",
        "Compute the scores that your student would likely get by asking the network, using the parameters $\\Theta$ optimized with stochastic gradient descent.\n",
        "\n"
      ]
    },
    {
      "cell_type": "code",
      "execution_count": null,
      "metadata": {
        "id": "9RPCifeO_Dr6"
      },
      "outputs": [],
      "source": [
        "# select a specific example\n",
        "example = np.array([[\n",
        "  1.,    # BIAS\n",
        "  ...,   # school (select -1 or 1)\n",
        "  ...,   # gender\n",
        "  ...,   # age\n",
        "  ...,   # adress\n",
        "  ...,   # family size\n",
        "  ...,   # parents living together\n",
        "  ...,   # mother education\n",
        "  ...,   # father education\n",
        "  ...,   # travel time\n",
        "  ...,   # study time\n",
        "  ...,   # class failure before\n",
        "\n",
        "  ...,   # support from school\n",
        "  ...,   # support from the family\n",
        "  ...,   # paid extra support \n",
        "  ...,   # out-of-school activities\n",
        "  ...,   # nursery school\n",
        "  ...,   # want to do higher ed\n",
        "  ...,   # internet access\n",
        "  ...,   # romantic relation\n",
        "\n",
        "  ...,   # relation to family\n",
        "  ...,   # amount of free time\n",
        "  ...,   # go out with peers\n",
        "  ...,   # alcoholic drinks during the week\n",
        "  ...,   # alcoholic drinks in the weekend\n",
        "  ...,   # health status\n",
        "  ...    # days of absence\n",
        "]]).T\n",
        "\n",
        "# compute network output\n",
        "prediction = ...\n",
        "print(\"Prediction :\\t\", prediction)"
      ]
    },
    {
      "attachments": {},
      "cell_type": "markdown",
      "metadata": {
        "id": "9lB1b-8V_Dr6"
      },
      "source": [
        "### Task 11: Influence of Data Dimensions (optional)\n",
        "\n",
        "\n",
        "For some dimensions in the input feature $\\vec x$, we want to test how different input values for this dimension would influence the outcome.\n",
        "Particularly, we test:\n",
        "\n",
        "  * Gender at index $d=2$: change between male ($1$) and female ($-1$)\n",
        "  * Weekly study time at index $d=10$: vary in the range $[1,4]$ \n",
        "  * Past Failures at index $d=11$: vary in range $[0,3]$ \n",
        "  * Additional classes at index $d=14$: change between yes ($1$) and no ($-1$)\n",
        "  * Romantic relations at index $d=19$: change between yes ($1$) and no ($-1$)\n",
        "  * Weekday alcohol consumption at index $d=23$: varies in the range $[1,6]$.\n",
        "\n",
        "Note that the indexes include the fact that we are omitting some input dimensions, so they might differ from what is listed on the webpage.\n",
        "\n",
        "Did you expect this output?\n",
        "\n"
      ]
    },
    {
      "cell_type": "code",
      "execution_count": null,
      "metadata": {
        "id": "buTufJpd_Dr6"
      },
      "outputs": [],
      "source": [
        "# implement a way to modify the input at a given index with certain values\n",
        "# and to predict and print the network output for this modification\n",
        "...\n",
        "# run this with the 4 modifications and their according to values as seen above\n",
        "..."
      ]
    }
  ],
  "metadata": {
    "colab": {
      "provenance": []
    },
    "interpreter": {
      "hash": "2dd53f8ad749bca69f7250ce75eb4f0def59db5cf79075a9716322ffc58e8a2e"
    },
    "kernelspec": {
      "display_name": "Python 3.8.10 ('DL')",
      "language": "python",
      "name": "python3"
    },
    "language_info": {
      "codemirror_mode": {
        "name": "ipython",
        "version": 3
      },
      "file_extension": ".py",
      "mimetype": "text/x-python",
      "name": "python",
      "nbconvert_exporter": "python",
      "pygments_lexer": "ipython3",
      "version": "3.10.9"
    },
    "orig_nbformat": 4
  },
  "nbformat": 4,
  "nbformat_minor": 0
}
