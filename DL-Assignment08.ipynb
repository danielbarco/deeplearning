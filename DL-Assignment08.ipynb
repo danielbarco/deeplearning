{
  "cells": [
    {
      "attachments": {},
      "cell_type": "markdown",
      "metadata": {
        "id": "fsSWtTLDm0Lx"
      },
      "source": [
        "# Assignment 8: Open-Set Classification\n",
        "\n",
        "In this assignment, we develop a network that is capable of correctly classifying known classes while at the same time rejecting unknown samples that occur during inference time.\n",
        "To showcase the capability, we make use of the MNIST dataset that we artificially split into known, negative and unknown classes; this allows us to train a network on the data without requiring too expensive hardware.\n",
        "Known and negative classes are used during training, and unknown classes appear only in the testing set.\n",
        "\n",
        "## Dataset\n",
        "We split the MNIST dataset into 4 known classes, 4 negative classes (used for training) and 2 unknown classes (used only for testing).\n",
        "While several splits might be possible, here we restrict to the following:\n",
        "* Known class indexes: (1, 4, 7, 9)\n",
        "* Negative class indexes: (0, 2, 3, 5)\n",
        "* Unknown class indexes: (6,8)\n",
        "\n",
        "Please note that, in PyTorch, class indexing starts at 0 (other than in the lecture where class indexing starts at 1).\n",
        "\n",
        "We rely on the `torchvision.datasets.MNIST` implementation of the MNIST dataset, which we adapt to our needs.\n",
        "The constructor of our Dataset class takes one parameter that defines the purpose of this dataset (`\"train\", \"validation\", \"test\"`).\n",
        "The `\"train\"` partition uses the training samples of the *known* and the *negative* classes.\n",
        "The `\"validation\"` partition uses the test samples of the *known* and the *negative* classes.\n",
        "Finally, the `\"test\"` partition uses the test samples of the *known* and the *unknown* classes.\n",
        "\n",
        "In our implementation of the Dataset class, we need to implement two functions.\n",
        "* First, the constructor `__init__(self, purpose)` selects the data based on our purpose. \n",
        "* Second, the index function `__getitem__(self, n)` returns a pair $(X^n, \\vec t{\\,}^{n})$ for the sample with the index $n$, where $X \\in \\mathbb R^{1\\times28\\times28}$ with values in range $[0,1]$ and $\\vec t \\in \\mathbb R^{O}$, see below.\n",
        "\n",
        "Since our loss function (cf. Task 5) requires our target vectors to be in vector format, we need to convert the target index $\\tau^n$ into its vector representation $\\vec t{\\,}^n$.\n",
        "Particularly, we need to provide the following target vectors: \n",
        "\n",
        "<center> \n",
        "\n",
        " $\\tau^n = 1 : \\vec t{\\,}^n = (1,0,0,0)$ \n",
        "\n",
        " $\\tau^n = 4 : \\vec t{\\,}^n = (0,1,0,0)$ \n",
        " \n",
        " $\\tau^n = 7 : \\vec t{\\,}^n = (0,0,1,0)$\n",
        " \n",
        " $\\tau^n = 9 : \\vec t{\\,}^n = (0,0,0,1)$\n",
        "\n",
        " else: $\\vec t{\\,}^n = (\\frac14,\\frac14,\\frac14,\\frac14)$\n",
        "\n",
        "</center>\n",
        "\n",
        "\n",
        "### Task 1: Target Vectors\n",
        "\n",
        "Implement a function that generates a target vector for any of the ten different classes according to above description. The return value should be a `torch.tensor` of type float.\n",
        "\n"
      ]
    },
    {
      "cell_type": "code",
      "execution_count": 1,
      "metadata": {
        "id": "pKlkqz_ym0L2"
      },
      "outputs": [
        {
          "name": "stderr",
          "output_type": "stream",
          "text": [
            "/opt/conda/lib/python3.10/site-packages/tqdm/auto.py:22: TqdmWarning: IProgress not found. Please update jupyter and ipywidgets. See https://ipywidgets.readthedocs.io/en/stable/user_install.html\n",
            "  from .autonotebook import tqdm as notebook_tqdm\n"
          ]
        }
      ],
      "source": [
        "import torch\n",
        "import torchvision\n",
        "import numpy as np\n",
        "\n",
        "# define the three types of classes\n",
        "known_classes = (1,4,7,9)\n",
        "negative_classes = (0,2,3,5)\n",
        "unknown_classes = (6, 8)\n",
        "O = len(known_classes)\n",
        "\n",
        "# define one-hot vectors\n",
        "labels_known = [torch.tensor([1,0,0,0]), torch.tensor([0,1,0,0]), torch.tensor([0,0,1,0]), torch.tensor([0,0,0,1])]\n",
        "label_unknown = [torch.tensor([0.25,0.25,0.25,0.25])]\n",
        "\n",
        "def target_vector(index):\n",
        "  # select correct one-hot vector for known classes, and the 1/O-vectors for unknown classes\n",
        "  if index in known_classes:\n",
        "    return labels_known[known_classes.index(index)]\n",
        "  if index in negative_classes or unknown_classes:\n",
        "    return label_unknown[0]"
      ]
    },
    {
      "cell_type": "markdown",
      "metadata": {
        "id": "WFSme-RNm0L4"
      },
      "source": [
        "### Test 1: Check your Target Vectors\n",
        "\n",
        "Test that your target vectors are correct, for all tpyes of known and unknown samples.\n"
      ]
    },
    {
      "cell_type": "code",
      "execution_count": 2,
      "metadata": {
        "id": "cn9oEs61m0L4"
      },
      "outputs": [
        {
          "name": "stdout",
          "output_type": "stream",
          "text": [
            "1 tensor([1, 0, 0, 0])\n",
            "4 tensor([0, 1, 0, 0])\n",
            "7 tensor([0, 0, 1, 0])\n",
            "9 tensor([0, 0, 0, 1])\n",
            "0 tensor([0.2500, 0.2500, 0.2500, 0.2500])\n",
            "2 tensor([0.2500, 0.2500, 0.2500, 0.2500])\n",
            "3 tensor([0.2500, 0.2500, 0.2500, 0.2500])\n",
            "5 tensor([0.2500, 0.2500, 0.2500, 0.2500])\n",
            "6 tensor([0.2500, 0.2500, 0.2500, 0.2500])\n",
            "8 tensor([0.2500, 0.2500, 0.2500, 0.2500])\n"
          ]
        }
      ],
      "source": [
        "# check that the target vectors for known classes are correct\n",
        "for index in known_classes:\n",
        "  t = target_vector(index)\n",
        "  print(index, t) \n",
        "  assert max(t) == 1\n",
        "  assert sum(t) == 1\n",
        "\n",
        "# check that the target vectors for negative and unknown classes are correct\n",
        "for index in negative_classes + unknown_classes:\n",
        "  t = target_vector(index)\n",
        "  print(index, t)\n",
        "  assert max(t) == 0.25\n",
        "  assert sum(t) == 1"
      ]
    },
    {
      "attachments": {},
      "cell_type": "markdown",
      "metadata": {
        "id": "jPmC7414m0L5"
      },
      "source": [
        "### Tasks 2 and 3: Dataset Construction and Dataset Item Selection\n",
        "\n",
        "Write a dataset class that derives from `torchvision.datasets.MNIST` in `PyTorch` and adapts some parts of it. \n",
        "In the constructor, make sure that you let `PyTorch` load the dataset by calling the base class constructor `super` with the desired parameters. Afterward, the `self.data` and `self.targets` are populated with all samples and target indexes.\n",
        "From these, we need to sub-select the samples that fit our current `purpose` and store them back to `self.data` and `self.targets`.\n",
        "\n",
        "Second, we need to implement the index function of our dataset, where we need to return both the image and the target vector.\n",
        "The images in `self.data` were originally stored as `uint8` values in the dimension $\\mathbb N^{N\\times28\\times28}$ with values in $[0, 255]$.\n",
        "The targets in `self.targets` were originally stored as class indexes in the dimension $\\mathbb N^N$. Make sure that you return both in the desired format.\n",
        "\n",
        "Notes:\n",
        "\n",
        "* Since Jupyter Notebook does not allow splitting classes over several code boxes, the two tasks are required to be solved in the same code box.\n",
        "* **The definition below is just one possibility.** There are many ways to implement this dataset interface. \n",
        "* With a clever implementation of the constructor, there is no need to overwrite the `__getitem__(self,index)` function.\n",
        "* Depending on your implementation, you might also need to overwrite the `__len__(self)` function."
      ]
    },
    {
      "cell_type": "code",
      "execution_count": 3,
      "metadata": {
        "id": "Sa5iLh2Nm0L5"
      },
      "outputs": [],
      "source": [
        "class DataSet(torchvision.datasets.MNIST):\n",
        "  def __init__(self, purpose=\"train\"):\n",
        "    # call base class constructor to handle the data loading\n",
        "    # make sure that you get the correct part of the data based on the purpose\n",
        "    super(DataSet, self).__init__(\n",
        "      root='data',\n",
        "      train=(purpose==\"train\"),\n",
        "      download=True,\n",
        "      transform=torchvision.transforms.ToTensor()\n",
        "    )\n",
        "\n",
        "    # select the valid classes based on the current purpose\n",
        "    if purpose == \"train\":\n",
        "      self.classes = known_classes + negative_classes\n",
        "    elif purpose == \"valid\":\n",
        "      self.classes = known_classes + negative_classes\n",
        "    elif purpose == \"test\":\n",
        "      self.classes = known_classes + unknown_classes\n",
        "    # check if one element of the list is in another list\n",
        "    mask = np.column_stack([self.targets == i for i in self.classes]).any(axis=1)\n",
        "    # sub-select the data of valid classes\n",
        "    self.data = self.data[mask]\n",
        "    # select the targets of valid classes\n",
        "    self.targets = self.targets[mask]\n",
        "  \n",
        "\n",
        "  def __getitem__(self, index):\n",
        "    # perform appropriate actions on the data and the targets\n",
        "    # the format of data should be in [0, 1]\n",
        "    (i,t) = super().__getitem__(index)\n",
        "    target = target_vector(t)\n",
        "    return i, target"
      ]
    },
    {
      "cell_type": "code",
      "execution_count": 4,
      "metadata": {},
      "outputs": [],
      "source": [
        "# instantiate the training dataset\n",
        "train_set = DataSet(purpose=\"train\")"
      ]
    },
    {
      "cell_type": "markdown",
      "metadata": {
        "id": "NvmK-kmdm0L6"
      },
      "source": [
        "### Test 2: Data Sets\n",
        "\n",
        "\n",
        "Instantiate the training dataset.\n",
        "Implement a data loader for the training dataset with a batch size of 64.\n",
        "Assure that all inputs are of the desired type and shape.\n",
        "Assert that the target values are in the correct format, and the sum of the target values per sample is one.\n"
      ]
    },
    {
      "cell_type": "code",
      "execution_count": 5,
      "metadata": {
        "id": "fgFrIjoom0L6"
      },
      "outputs": [],
      "source": [
        "# instantiate the training dataset\n",
        "train_set = DataSet(purpose=\"train\")\n",
        "train_loader = torch.utils.data.DataLoader(train_set, 64, shuffle=True)\n",
        "\n",
        "# assert that we have not filtered out all samples\n",
        "assert len(train_set)!= 60000 and len(train_set)== 48231\n",
        "\n",
        "# check the batch and assert valid data and sizes\n",
        "for x,t in train_loader:\n",
        "  assert len(x) <= 64\n",
        "  assert len(t) == len(x)\n",
        "  assert torch.all(torch.sum(t, axis = 1) == 1)\n",
        "  assert x.shape == torch.Size([x.shape[0], 1, 28, 28])\n",
        "  assert x.dtype == torch.float32\n",
        "  assert torch.max(x) <= 1"
      ]
    },
    {
      "attachments": {},
      "cell_type": "markdown",
      "metadata": {
        "id": "W67k2w9Mm0L7"
      },
      "source": [
        "### Task 4: Utility Function\n",
        "\n",
        "Implement a function that splits a batch of samples into known and negative/unknown parts. For the known parts, also provide the target vectors.\n",
        "How can we know which of the data samples are known samples, and which are negative/unknown?\n",
        "\n",
        "This function needs to return three elements:\n",
        "* First, the samples from the batch that belong to known classes.\n",
        "* Second, the target vectors that belong to the known classes.\n",
        "* Finally, the samples from the batch that belong to negative/unknown classes."
      ]
    },
    {
      "cell_type": "code",
      "execution_count": 6,
      "metadata": {
        "id": "PSDfc-2Tm0L7"
      },
      "outputs": [],
      "source": [
        "def split_known_unknown(batch, targets):\n",
        "  # select the indexes at which known and unknown samples exist\n",
        "  known = torch.any(targets == 1, dim=1)\n",
        "  unknown = torch.all(targets == 1/4, dim=1)\n",
        "  # return the known samples, the targets of the known samples, as well as the unknown samples\n",
        "  return batch[known], targets[known], batch[unknown]"
      ]
    },
    {
      "attachments": {},
      "cell_type": "markdown",
      "metadata": {
        "id": "kVq2US6am0L8"
      },
      "source": [
        "## Loss Function and Confidence\n",
        "\n",
        "We write our own PyTorch implementation of our loss function.\n",
        "Particularly, we implement a manual way to define the derivative of our loss function via `torch.autograd.Function`, which allows us to define the forward and backward pass on our own.\n",
        "For this purpose, we need to implement two `static` functions in our loss.\n",
        "The function `forward(ctx, logits, targets)` is required to compute the loss value and allows us to store some variables in the context of the backward pass.\n",
        "The `backward(ctx, result)` provides us with the result of the forward function (the loss value) as well as the context with our stored variables.\n",
        "Here, we need to compute the derivative of the loss with respect to both of the inputs to the forward function (which might look a bit confusing), i.e.,$\\frac{\\partial \\mathbf{J}^{CCE}}{\\partial \\mathbf{Z}}$ and $\\frac{\\partial \\mathbf{J}^{CCE}}{\\partial \\mathbf{T}}$.\n",
        "Since the latter is not required, we can also simply return `None` for the second derivative.\n",
        "\n",
        "<font color=#FF000>Hint: if you think the implementation of loss function is too hard, you can also cross-entropy as your loss function (**since PyTorch version 1.11**).</font>"
      ]
    },
    {
      "cell_type": "markdown",
      "metadata": {
        "id": "QT58YXiE4_C2"
      },
      "source": [
        "### Task 5: Loss Function Implementation\n",
        "\n",
        "Implement a `torch.autograd.Function` class for the adapted SoftMax function according to the equations provided in the lecture.\n",
        "You might want to compute the log of the network output $\\ln y_o$ from the logits $z_o$ via `torch.nn.functional.log_softmax`.\n",
        "Store all the data required for the backward pass in the context during `forward`, and extract these from the context during `backward`."
      ]
    },
    {
      "cell_type": "code",
      "execution_count": 7,
      "metadata": {
        "id": "czmU2Aqqm0L8"
      },
      "outputs": [],
      "source": [
        "class AdaptedSoftMax(torch.autograd.Function):\n",
        "\n",
        "  # implement the forward propagation\n",
        "  @staticmethod\n",
        "  def forward(ctx, logits, targets):\n",
        "    # compute the log probabilities via log_softmax\n",
        "    log_probs = torch.nn.functional.log_softmax(logits, dim=1)\n",
        "    # save required values for backward pass\n",
        "    ctx.save_for_backward(logits, targets)\n",
        "    # compute loss\n",
        "    loss = -torch.sum(targets * log_probs, dim=1)\n",
        "    return loss\n",
        "\n",
        "  # implement Jacobian\n",
        "  @staticmethod\n",
        "  def backward(ctx, result):\n",
        "    # get results stored from forward pass\n",
        "    logits, targets = ctx.saved_tensors\n",
        "    # compute derivative of loss w.r.t. the logits\n",
        "    y = torch.nn.functional.cross_entropy(logits, targets)\n",
        "    dJ_dy = torch.autograd.grad(y, logits)[0]\n",
        "    # return the derivatives; none for derivative for the targets\n",
        "    return dJ_dy, None\n",
        "\n",
        "# DO NOT REMOVE!\n",
        "# here we set the adapted softmax function to be used later\n",
        "adapted_softmax = AdaptedSoftMax.apply"
      ]
    },
    {
      "cell_type": "markdown",
      "metadata": {
        "id": "Eopp5YC6m0L9"
      },
      "source": [
        "### Task 5a: Alternative Loss Function\n",
        "\n",
        "In case the loss function is too difficult to implement, you can also choose to rely on PyTorch's automatic gradient computation and simply define your loss function without the backward pass.\n",
        "\n",
        "In this case, we only need to define the forward pass. A simple function `adapted_softmax(logits, targets)` is sufficient.\n",
        "\n",
        "You can implement any variant of the categorical cross-entropy loss function on top of SoftMax activations as defined in the lecture.\n"
      ]
    },
    {
      "cell_type": "code",
      "execution_count": 8,
      "metadata": {
        "id": "fFhw66Pxm0L9"
      },
      "outputs": [],
      "source": [
        "def adapted_softmax_alt(logits, targets):\n",
        "  # compute cross-entropy loss on top of softmax values of the logits\n",
        "  loss = torch.nn.functional.cross_entropy(logits, targets)\n",
        "  return loss"
      ]
    },
    {
      "attachments": {},
      "cell_type": "markdown",
      "metadata": {
        "id": "bDwhq72Vm0L9"
      },
      "source": [
        "### Task 6: Confidence Evaluation\n",
        "\n",
        "\n",
        "Implement a function to compute the confidence value for a given batch of samples. \n",
        "Compute Softmax confidence and split these confidences between known and negative/unknown classes. \n",
        "For samples from known classes, sum up the SoftMax confidences of the correct class. \n",
        "For negative/unknown samples, sum 1 minus the maximum confidence for any of the known classes; also apply the $\\frac1O$ correction for the minimum possible SoftMax confidence."
      ]
    },
    {
      "cell_type": "code",
      "execution_count": 23,
      "metadata": {
        "id": "-ooydMNsm0L9"
      },
      "outputs": [],
      "source": [
        "def confidence(logits, targets):\n",
        "  # comupte softmax confidences\n",
        "  conf = torch.nn.functional.softmax(logits, dim=1)\n",
        "  # split between known and unknown\n",
        "  known = torch.any(targets == 1, dim=1)\n",
        "  unknown = torch.all(targets == 1/4, dim=1)\n",
        "  # compute confidence score for known targets\n",
        "  conf_known = torch.sum(conf[known] * targets[known])\n",
        "  # compute confidence score for unknown targets\n",
        "  conf_unknown = torch.sum(conf[unknown] * targets[unknown]) * 4\n",
        "  return conf_known + conf_unknown"
      ]
    },
    {
      "attachments": {},
      "cell_type": "markdown",
      "metadata": {
        "id": "e543YdEvm0L-"
      },
      "source": [
        "### Test 3: Check Confidence Implementation\n",
        "\n",
        "Test that your confidence implementation does what it is supposed to do.\n",
        "\n",
        "Note that confidence values should always be between 0 and 1, other values indicate an issue in the implementation."
      ]
    },
    {
      "cell_type": "code",
      "execution_count": null,
      "metadata": {},
      "outputs": [],
      "source": [
        "# select good logit vectors for known and unknown classes\n",
        "logits = torch.tensor([[10., 0., 0., 0.], [-10., 0, -10., -10.], [0.,0.,0.,0.]])\n",
        "# select the according target vectors for these classes\n",
        "targets = torch.stack([target_vector(known_classes[0]), target_vector(known_classes[1]), target_vector(negative_classes[0])])\n",
        "\n",
        "# the confidence should be close to 1 for all cases\n",
        "assert 3 - confidence(logits, targets) < 1e-3"
      ]
    },
    {
      "attachments": {},
      "cell_type": "markdown",
      "metadata": {
        "id": "mWFgh2Nwm0L-"
      },
      "source": [
        "## Network and Training\n",
        "\n",
        "We make use of the same convolutional network as utilized in Assignment 6, to which we append a final fully-connected layer with $K$ inputs and $O$ outputs.\n",
        "Additionally, we replace the $\\tanh$ activation function with the better-performing ReLU function.\n",
        "\n",
        "The topology can be found in the following:\n",
        "1. 2D convolutional layer with $Q_1$ channels, kernel size $5\\times5$, stride 1 and padding 2\n",
        "2. 2D maximum pooling layer with kernel size $2\\times2$ and stride 2\n",
        "3. Activation function ReLU\n",
        "4. 2D convolutional layer with $Q_2$ channels, kernel size $5\\times5$, stride 1 and padding 2\n",
        "5. 2D maximum pooling layer with kernel size $2\\times2$ and stride 2\n",
        "6. Activation function ReLU\n",
        "7. Flatten layer to convert the convolution output into a vector\n",
        "8. Fully-connected layer with the correct number of inputs and $K$ outputs\n",
        "9. Fully-connected layer with $K$ inputs and $O$ outputs\n",
        "\n",
        "However, instead of relying on the `torch.nn.Sequential` class, we need to define our own network class, which we need to derive from `torch.nn.Module` -- since our network has two outputs.\n",
        "We basically need to implement two methods in our network.\n",
        "The constructor `__init__(self, Q1, Q2, K)` needs to call the base class constructor and initialize all required layers of our network.\n",
        "The `forward(self, x)` function then passes the input through all of our layers and returns both the deep features (extracted at the first fully-connected layer) and the logits (extracted from the second fully-connected layer)."
      ]
    },
    {
      "cell_type": "markdown",
      "metadata": {
        "id": "F1J9AXd55YO4"
      },
      "source": [
        "\n",
        "### Task 7: Network Definition\n",
        "\n",
        "We define our own small-scale network to classify known and unknown samples for MNIST.\n",
        "We basically use the same convolutional network as in Assignment 6, with some small adaptations.\n",
        "However, this time we need to implement our own network model since we need to modify our network output.\n",
        "\n",
        "Implement a network class, including the layers as provided above.\n",
        "Implement both the constructor and the forward function.\n",
        "Instantiate the network with $Q_1=16, Q_2=32, K=20, O=4$.\n"
      ]
    },
    {
      "cell_type": "code",
      "execution_count": null,
      "metadata": {
        "id": "LYyPEmsWm0L-"
      },
      "outputs": [],
      "source": [
        "class Network (torch.nn.Module):\n",
        "  def __init__(self, Q1, Q2, K, O):\n",
        "    # call base class constrcutor\n",
        "    super(Network,self).__init__()\n",
        "    # define convolutional layers\n",
        "    self.conv1 = ...\n",
        "    self.conv2 = ...\n",
        "    # pooling and activation functions will be re-used for the different stages\n",
        "    self.pool = ...\n",
        "    self.act = ...\n",
        "    # define fully-connected layers\n",
        "    self.flatten = ...\n",
        "    self.fc1 = ...\n",
        "    self.fc2 = ...\n",
        "  \n",
        "  def forward(self,x):\n",
        "    # compute first layer of convolution, pooling and activation\n",
        "    a = ...\n",
        "    # compute second layer of convolution, pooling and activation\n",
        "    a = ...\n",
        "    # get the deep features as the output of the first fully-connected layer\n",
        "    deep_features = ...\n",
        "    # get the logits as the output of the second fully-connected layer\n",
        "    logits = ...\n",
        "    # return both the logits and the deep features\n",
        "    return logits, deep_features\n",
        "\n",
        "# run on cuda device\n",
        "device = torch.device(\"cuda\")\n",
        "# create network with 20 hidden neurons in FC layer\n",
        "network = ..."
      ]
    },
    {
      "attachments": {},
      "cell_type": "markdown",
      "metadata": {
        "id": "1rxnrxtRm0L-"
      },
      "source": [
        "### Task 8: Training Loop\n",
        "\n",
        "Instantiate the training and validation set and according data loaders.\n",
        "Instantiate an SGD optimizer with an appropriate learning rate (the optimal learning rate might depend on your loss function implementation and can vary between 0.1 and 0.00001).\n",
        "Implement the training and validation loop for 10 epochs (you can also train for 100 epochs if you want).\n",
        "Compute the training set confidence during the epoch.\n",
        "At the end of each epoch, also compute the validation set confidence measure.\n",
        "Print both the training set and validation set confidence scores to the console.\n"
      ]
    },
    {
      "cell_type": "code",
      "execution_count": null,
      "metadata": {
        "id": "wnLIrcTzm0L_"
      },
      "outputs": [],
      "source": [
        "# SGD optimizer with appropriate learning rate\n",
        "optimizer = torch.optim.SGD(...) \n",
        "batch_size=64\n",
        "\n",
        "# instantiate the training dataset and data loader\n",
        "train_set = DataSet(purpose=...)\n",
        "train_loader = torch.utils.data.DataLoader(...)\n",
        "\n",
        "# validation set and data loader\n",
        "validation_set = DataSet(purpose=...)\n",
        "validation_loader = ...\n",
        "\n",
        "for epoch in range(10): # or 100\n",
        "  # evaluate average confidence for training and validation set\n",
        "  train_conf = validation_conf = 0.\n",
        "\n",
        "  for x,t in train_loader:\n",
        "    # extract logits (and deep features) from network\n",
        "    ...\n",
        "    # compute our loss\n",
        "    ...\n",
        "\n",
        "    # perform weight update\n",
        "    ...\n",
        "\n",
        "    # compute training confidence\n",
        "    train_conf += ...\n",
        "\n",
        "  # compute validation comfidence\n",
        "  with torch.no_grad():\n",
        "    for x,t in validation_loader:\n",
        "      # extract logits (and deep features)\n",
        "      ...\n",
        "      # compute validation confidence\n",
        "      validation_conf += ...\n",
        "\n",
        "  # print average confidence for training and validation\n",
        "  print(f\"\\rEpoch {epoch}; train: {train_conf/len(train_set):1.5f}, val: {validation_conf/len(validation_set):1.5f}\")"
      ]
    },
    {
      "attachments": {},
      "cell_type": "markdown",
      "metadata": {
        "id": "WDqRH6Bsm0L_"
      },
      "source": [
        "## Evaluation\n",
        "\n",
        "For evaluation, we test two different things.\n",
        "First, we check whether our intuition is correct, and the training helps reduce the deep feature magnitudes of unknown samples while maintaining magnitudes for known samples.\n",
        "It is also interesting to see whether there is a difference between samples of the negative classes that were seen during training, and unknown classes that were not.\n",
        "For this purpose, we extract the deep features for the validation and test sets, compute their magnitudes, and plot them in a histogram.\n",
        "\n",
        "The second evaluation computes Correct Classification Rates (CCR) and False Positive Rates (FPR) for a given confidence threshold $\\zeta=0.98$ (based on your training results, you might want to vary this threshold).\n",
        "For the known samples, we compute how often the correct class was classified with a confidence over threshold.\n",
        "For unknown samples, we assess how often one of the known classes was predicted with a confidence larger than $\\zeta$.\n",
        "\n"
      ]
    },
    {
      "cell_type": "markdown",
      "metadata": {
        "id": "zAhXp8zh7ent"
      },
      "source": [
        "### Task 9: Feature Magnitude Plot\n",
        "\n",
        "Extract deep features for validation and test set samples and compute their magnitudes. Split them into known, negative (validation set), and unknown (test set). Plot a histogram for each of the three types of samples.\n",
        "Note that the minimum magnitude is 0, and the maximum magnitude can depend on your network training success."
      ]
    },
    {
      "cell_type": "code",
      "execution_count": null,
      "metadata": {
        "id": "iM0SayyKm0L_"
      },
      "outputs": [],
      "source": [
        "# instantiate test set and according data loader\n",
        "test_set = DataSet(purpose=...)\n",
        "test_loader = ...\n",
        "\n",
        "# collect feature magnitudes for \n",
        "known, negative, unknown = [], [], []\n",
        "\n",
        "with torch.no_grad():\n",
        "  # extract deep features magnitudes for validation set\n",
        "  for x,t in validation_loader:\n",
        "    # extract deep features (and logits)\n",
        "    ...\n",
        "    # compute norms\n",
        "    ...\n",
        "    # split between known and negative\n",
        "    ...\n",
        "    # collect norms of known samples\n",
        "    known.extend(...)\n",
        "    # collect norms of negative samples\n",
        "    negative.extend(...)\n",
        "\n",
        "  for x,t in test_loader:\n",
        "    # extract deep features (and logits)\n",
        "    ...\n",
        "    # compute norms\n",
        "    ...\n",
        "    # split between known and unknown\n",
        "    ...\n",
        "    # collect norms of known samples\n",
        "    ...\n",
        "    # collect norms of unknown samples\n",
        "    unknown.extend(...)\n",
        "\n",
        "\n",
        "# plot the norms as histograms\n",
        "from matplotlib import pyplot\n",
        "pyplot.figure(figsize=(4,2))\n",
        "\n",
        "# keep the same maximum magnitude\n",
        "max_mag = 20\n",
        "# plot the three histograms\n",
        "pyplot.hist(known, bins=100, range=(0,max_mag), density=True, color=\"g\", histtype=\"step\", label=\"Known\")\n",
        "pyplot.hist(negative, bins=100, range=(0,max_mag), density=True, color=\"b\", histtype=\"step\", label=\"Negative\")\n",
        "pyplot.hist(unknown, bins=100, range=(0,max_mag), density=True, color=\"r\", histtype=\"step\", label=\"Unknown\")\n",
        "\n",
        "# beautify plot\n",
        "pyplot.legend()\n",
        "pyplot.xlabel(\"Deep Feature Magnitude\")\n",
        "pyplot.ylabel(\"Density\")"
      ]
    },
    {
      "attachments": {},
      "cell_type": "markdown",
      "metadata": {
        "id": "nTSMfeJ_m0L_"
      },
      "source": [
        "### Task 10: Classification Evaluation\n",
        "\n",
        "For a fixed threshold of $\\zeta=0.98$, compute CCR and FPR for the test set.\n",
        "A well-trained network can achieve a CCR of > 90% for an FPR < 10%.\n",
        "You might need to vary the threshold."
      ]
    },
    {
      "cell_type": "code",
      "execution_count": null,
      "metadata": {
        "id": "QlrBZlHxm0L_"
      },
      "outputs": [],
      "source": [
        "zeta = 0.98\n",
        "\n",
        "# count the correctly classified and the total number of known samples\n",
        "correct = known = 0\n",
        "# count the incorrectly classified and the total number of unknown samples\n",
        "false = unknown = 0\n",
        "\n",
        "with torch.no_grad():\n",
        "  for x,t in test_loader:\n",
        "    # extract logits (and deep features)\n",
        "    ...\n",
        "    # compute softmax confidences\n",
        "    ...\n",
        "    # split between known and unknown\n",
        "    ...\n",
        "\n",
        "    # compute number of correctly classified knowns above threshold\n",
        "    correct += ...\n",
        "    known += ...\n",
        "\n",
        "    # compute number of incorrectly accepted known samples\n",
        "    false += ...\n",
        "    unknown += ...\n",
        "\n",
        "# print both rates\n",
        "print (f\"CCR: {correct} of {known} = {correct/known*100:2.2f}%\")\n",
        "print (f\"FPR: {false} of {unknown} = {false/unknown*100:2.2f}%\")"
      ]
    }
  ],
  "metadata": {
    "colab": {
      "provenance": []
    },
    "interpreter": {
      "hash": "2dd53f8ad749bca69f7250ce75eb4f0def59db5cf79075a9716322ffc58e8a2e"
    },
    "kernelspec": {
      "display_name": "Python 3.8.10 ('DL')",
      "language": "python",
      "name": "python3"
    },
    "language_info": {
      "codemirror_mode": {
        "name": "ipython",
        "version": 3
      },
      "file_extension": ".py",
      "mimetype": "text/x-python",
      "name": "python",
      "nbconvert_exporter": "python",
      "pygments_lexer": "ipython3",
      "version": "3.10.8"
    },
    "orig_nbformat": 4
  },
  "nbformat": 4,
  "nbformat_minor": 0
}
