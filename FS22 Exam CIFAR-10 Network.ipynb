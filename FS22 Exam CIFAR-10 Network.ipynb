{
  "cells": [
    {
      "attachments": {},
      "cell_type": "markdown",
      "metadata": {
        "id": "VDc4w-QsjDJ7"
      },
      "source": [
        "# 3. Image Classification\n",
        "\n",
        "We import everything that we will need, and instantiate a device that we want to use."
      ]
    },
    {
      "cell_type": "code",
      "execution_count": 1,
      "metadata": {
        "id": "nLlVHjh0jDKA"
      },
      "outputs": [],
      "source": [
        "# import everything\n",
        "import torch\n",
        "import torchvision\n",
        "device = \"cuda\" if torch.cuda.is_available() else \"cpu\""
      ]
    },
    {
      "attachments": {},
      "cell_type": "markdown",
      "metadata": {
        "id": "4d_ldgO0jDKD"
      },
      "source": [
        "### 3. (c) Network Implementation\n",
        "\n",
        "Implement and instantiate the network as given. Since there are various different ways to implement this network, no guidelines will be provided here."
      ]
    },
    {
      "cell_type": "code",
      "execution_count": 16,
      "metadata": {
        "id": "st-6hbXjjDKE"
      },
      "outputs": [],
      "source": [
        "# implement and instantiate a network\n",
        "def convolutional(Q1, Q2, O):\n",
        "  return torch.nn.Sequential(\n",
        "    torch.nn.Conv2d(in_channels=3, out_channels=Q1, kernel_size = (5,5), stride=1, padding=2),\n",
        "    torch.nn.MaxPool2d(kernel_size=(2,2), stride=2),\n",
        "    torch.nn.Tanh(),\n",
        "    torch.nn.Conv2d(in_channels=Q1, out_channels=Q2, kernel_size = (5,5), stride=1, padding=2),\n",
        "    torch.nn.MaxPool2d(kernel_size=(2,2), stride=2),\n",
        "    torch.nn.Tanh(),\n",
        "    torch.nn.Flatten(),\n",
        "    torch.nn.Linear(Q2*8*8, O)\n",
        "  )\n",
        "\n",
        "network = convolutional(16, 32, 10)"
      ]
    },
    {
      "attachments": {},
      "cell_type": "markdown",
      "metadata": {
        "id": "ysPD4DvhjDKF"
      },
      "source": [
        "### 3. (d) Dataset and Data Loaders\n",
        "\n",
        "We make use of the CIFAR-10 dataset, which is part of the `torchvision.datasets`. Instantiate training and test data loaders for this dataset."
      ]
    },
    {
      "cell_type": "code",
      "execution_count": 17,
      "metadata": {
        "id": "fQuPl_91jDKG"
      },
      "outputs": [
        {
          "name": "stdout",
          "output_type": "stream",
          "text": [
            "Files already downloaded and verified\n",
            "Files already downloaded and verified\n"
          ]
        }
      ],
      "source": [
        "# instantiate training data loader\n",
        "train_set = torchvision.datasets.CIFAR10(root='./data', train=True, download=True, transform=torchvision.transforms.ToTensor())\n",
        "train_loader = torch.utils.data.DataLoader(train_set, batch_size=64, shuffle=True)\n",
        "\n",
        "# instantiate test data loader\n",
        "test_set = torchvision.datasets.CIFAR10(root='./data', train=False, download=True, transform=torchvision.transforms.ToTensor())\n",
        "test_loader = torch.utils.data.DataLoader(test_set, batch_size=64, shuffle=False)"
      ]
    },
    {
      "attachments": {},
      "cell_type": "markdown",
      "metadata": {
        "id": "urIGX_qcjDKH"
      },
      "source": [
        "### 3. (e) Network Training\n",
        "\n",
        "Train the network using appropriate optimizer and loss function for 10 epochs. Compute validation set accuracy at the end of each epoch."
      ]
    },
    {
      "cell_type": "code",
      "execution_count": 18,
      "metadata": {
        "id": "wLjOlswpjDKI"
      },
      "outputs": [
        {
          "name": "stdout",
          "output_type": "stream",
          "text": [
            "Epoch 1: test set accuracy: 0.48835589171974525\n",
            "Epoch 2: test set accuracy: 0.5166202229299363\n",
            "Epoch 3: test set accuracy: 0.5309182590233545\n",
            "Epoch 4: test set accuracy: 0.5500845939490446\n",
            "Epoch 5: test set accuracy: 0.5676353503184713\n",
            "Epoch 6: test set accuracy: 0.5821722399150743\n",
            "Epoch 7: test set accuracy: 0.5927974294813467\n",
            "Epoch 8: test set accuracy: 0.6000696656050956\n",
            "Epoch 9: test set accuracy: 0.6037464614295824\n",
            "Epoch 10: test set accuracy: 0.6083200636942675\n"
          ]
        }
      ],
      "source": [
        "# instantiate optimizer and loss\n",
        "loss = torch.nn.CrossEntropyLoss()\n",
        "optimizer = torch.optim.SGD(params=network.parameters(),lr=0.01, momentum=0.8) #could also use Adam optimiser \n",
        "\n",
        "test_acc = []\n",
        "\n",
        "# train for 10 epochs\n",
        "for epoch in range(10):\n",
        "  # train the network on the batches of the training set\n",
        "  for x,t in train_loader: \n",
        "    optimizer.zero_grad()\n",
        "    x, t = x.to(device), t.to(device)\n",
        "\n",
        "    y = network(x)\n",
        "    l = loss(y, t)\n",
        "    l.backward()\n",
        "    optimizer.step()\n",
        "\n",
        "  # compute test set accuracy\n",
        "  with torch.no_grad():\n",
        "      for x, t in test_loader:\n",
        "        x, t = x.to(device), t.to(device)\n",
        "        y = network(x)\n",
        "        test_acc.append((y.argmax(dim=1) == t).float().mean().item())\n",
        "\n",
        "  # report test set accuracy\n",
        "  print(f\"Epoch {epoch+1}: test set accuracy: {sum(test_acc)/len(test_acc)}\")"
      ]
    }
  ],
  "metadata": {
    "colab": {
      "collapsed_sections": [],
      "name": "DL-FS22-Exam-Task3.ipynb",
      "provenance": []
    },
    "interpreter": {
      "hash": "a29cabff5744fce69e08a959ab87b9e77a9f67b498d08783caa8c3bb16f23a00"
    },
    "kernelspec": {
      "display_name": "Python 3.8.13 ('DL')",
      "language": "python",
      "name": "python3"
    },
    "language_info": {
      "codemirror_mode": {
        "name": "ipython",
        "version": 3
      },
      "file_extension": ".py",
      "mimetype": "text/x-python",
      "name": "python",
      "nbconvert_exporter": "python",
      "pygments_lexer": "ipython3",
      "version": "3.8.5"
    },
    "orig_nbformat": 4
  },
  "nbformat": 4,
  "nbformat_minor": 0
}
