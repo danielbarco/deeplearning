{
  "cells": [
    {
      "attachments": {},
      "cell_type": "markdown",
      "metadata": {
        "id": "VDc4w-QsjDJ7"
      },
      "source": [
        "# 3. Image Classification\n",
        "\n",
        "We import everything that we will need, and instantiate a device that we want to use."
      ]
    },
    {
      "cell_type": "code",
      "execution_count": 1,
      "metadata": {
        "id": "nLlVHjh0jDKA"
      },
      "outputs": [],
      "source": [
        "# import everything\n",
        "import torch\n",
        "import torchvision\n",
        "device = \"cuda\" if torch.cuda.is_available() else \"cpu\""
      ]
    },
    {
      "attachments": {},
      "cell_type": "markdown",
      "metadata": {
        "id": "4d_ldgO0jDKD"
      },
      "source": [
        "### 3. (c) Network Implementation\n",
        "\n",
        "Implement and instantiate the network as given. Since there are various different ways to implement this network, no guidelines will be provided here."
      ]
    },
    {
      "cell_type": "code",
      "execution_count": 2,
      "metadata": {
        "id": "st-6hbXjjDKE"
      },
      "outputs": [],
      "source": [
        "# implement and instantiate a network\n",
        "def convolutional(Q1, Q2, O):\n",
        "  return torch.nn.Sequential(\n",
        "    torch.nn.Conv2d(in_channels=3, out_channels=Q1, kernel_size = (5,5), stride=1, padding=2),\n",
        "    torch.nn.MaxPool2d(kernel_size=(2,2), stride=2),\n",
        "    torch.nn.Tanh(),\n",
        "    torch.nn.Conv2d(in_channels=Q1, out_channels=Q2, kernel_size = (5,5), stride=1, padding=2),\n",
        "    torch.nn.MaxPool2d(kernel_size=(2,2), stride=2),\n",
        "    torch.nn.Tanh(),\n",
        "    torch.nn.Flatten(),\n",
        "    torch.nn.Linear(Q2*8*8, O)\n",
        "  )\n",
        "\n",
        "network = convolutional(16, 32, 10)"
      ]
    },
    {
      "attachments": {},
      "cell_type": "markdown",
      "metadata": {
        "id": "ysPD4DvhjDKF"
      },
      "source": [
        "### 3. (d) Dataset and Data Loaders\n",
        "\n",
        "We make use of the CIFAR-10 dataset, which is part of the `torchvision.datasets`. Instantiate training and test data loaders for this dataset."
      ]
    },
    {
      "cell_type": "code",
      "execution_count": 3,
      "metadata": {
        "id": "fQuPl_91jDKG"
      },
      "outputs": [
        {
          "name": "stdout",
          "output_type": "stream",
          "text": [
            "Downloading https://www.cs.toronto.edu/~kriz/cifar-10-python.tar.gz to ./data/cifar-10-python.tar.gz\n"
          ]
        },
        {
          "name": "stderr",
          "output_type": "stream",
          "text": [
            "100%|██████████| 170498071/170498071 [00:06<00:00, 27048979.90it/s]\n"
          ]
        },
        {
          "name": "stdout",
          "output_type": "stream",
          "text": [
            "Extracting ./data/cifar-10-python.tar.gz to ./data\n",
            "Files already downloaded and verified\n"
          ]
        }
      ],
      "source": [
        "# instantiate training data loader\n",
        "train_set = torchvision.datasets.CIFAR10(root='./data', train=True, download=True, transform=torchvision.transforms.ToTensor())\n",
        "train_loader = torch.utils.data.DataLoader(train_set, batch_size=64, shuffle=True)\n",
        "\n",
        "# instantiate test data loader\n",
        "test_set = torchvision.datasets.CIFAR10(root='./data', train=False, download=True, transform=torchvision.transforms.ToTensor())\n",
        "test_loader = torch.utils.data.DataLoader(test_set, batch_size=64, shuffle=False)"
      ]
    },
    {
      "attachments": {},
      "cell_type": "markdown",
      "metadata": {
        "id": "urIGX_qcjDKH"
      },
      "source": [
        "### 3. (e) Network Training\n",
        "\n",
        "Train the network using appropriate optimizer and loss function for 10 epochs. Compute validation set accuracy at the end of each epoch."
      ]
    },
    {
      "cell_type": "code",
      "execution_count": 4,
      "metadata": {
        "id": "wLjOlswpjDKI"
      },
      "outputs": [
        {
          "name": "stdout",
          "output_type": "stream",
          "text": [
            "Epoch 1: test set accuracy: 0.4721337579617834\n",
            "Epoch 2: test set accuracy: 0.47636345541401276\n",
            "Epoch 3: test set accuracy: 0.5090233545647559\n"
          ]
        },
        {
          "ename": "KeyboardInterrupt",
          "evalue": "",
          "output_type": "error",
          "traceback": [
            "\u001b[0;31m---------------------------------------------------------------------------\u001b[0m",
            "\u001b[0;31mKeyboardInterrupt\u001b[0m                         Traceback (most recent call last)",
            "Cell \u001b[0;32mIn[4], line 17\u001b[0m\n\u001b[1;32m     15\u001b[0m   y \u001b[39m=\u001b[39m network(x)\n\u001b[1;32m     16\u001b[0m   l \u001b[39m=\u001b[39m loss(y, t)\n\u001b[0;32m---> 17\u001b[0m   l\u001b[39m.\u001b[39;49mbackward()\n\u001b[1;32m     18\u001b[0m   optimizer\u001b[39m.\u001b[39mstep()\n\u001b[1;32m     20\u001b[0m \u001b[39m# compute test set accuracy\u001b[39;00m\n",
            "File \u001b[0;32m/opt/conda/lib/python3.10/site-packages/torch/_tensor.py:487\u001b[0m, in \u001b[0;36mTensor.backward\u001b[0;34m(self, gradient, retain_graph, create_graph, inputs)\u001b[0m\n\u001b[1;32m    477\u001b[0m \u001b[39mif\u001b[39;00m has_torch_function_unary(\u001b[39mself\u001b[39m):\n\u001b[1;32m    478\u001b[0m     \u001b[39mreturn\u001b[39;00m handle_torch_function(\n\u001b[1;32m    479\u001b[0m         Tensor\u001b[39m.\u001b[39mbackward,\n\u001b[1;32m    480\u001b[0m         (\u001b[39mself\u001b[39m,),\n\u001b[0;32m   (...)\u001b[0m\n\u001b[1;32m    485\u001b[0m         inputs\u001b[39m=\u001b[39minputs,\n\u001b[1;32m    486\u001b[0m     )\n\u001b[0;32m--> 487\u001b[0m torch\u001b[39m.\u001b[39;49mautograd\u001b[39m.\u001b[39;49mbackward(\n\u001b[1;32m    488\u001b[0m     \u001b[39mself\u001b[39;49m, gradient, retain_graph, create_graph, inputs\u001b[39m=\u001b[39;49minputs\n\u001b[1;32m    489\u001b[0m )\n",
            "File \u001b[0;32m/opt/conda/lib/python3.10/site-packages/torch/autograd/__init__.py:200\u001b[0m, in \u001b[0;36mbackward\u001b[0;34m(tensors, grad_tensors, retain_graph, create_graph, grad_variables, inputs)\u001b[0m\n\u001b[1;32m    195\u001b[0m     retain_graph \u001b[39m=\u001b[39m create_graph\n\u001b[1;32m    197\u001b[0m \u001b[39m# The reason we repeat same the comment below is that\u001b[39;00m\n\u001b[1;32m    198\u001b[0m \u001b[39m# some Python versions print out the first line of a multi-line function\u001b[39;00m\n\u001b[1;32m    199\u001b[0m \u001b[39m# calls in the traceback and some print out the last line\u001b[39;00m\n\u001b[0;32m--> 200\u001b[0m Variable\u001b[39m.\u001b[39;49m_execution_engine\u001b[39m.\u001b[39;49mrun_backward(  \u001b[39m# Calls into the C++ engine to run the backward pass\u001b[39;49;00m\n\u001b[1;32m    201\u001b[0m     tensors, grad_tensors_, retain_graph, create_graph, inputs,\n\u001b[1;32m    202\u001b[0m     allow_unreachable\u001b[39m=\u001b[39;49m\u001b[39mTrue\u001b[39;49;00m, accumulate_grad\u001b[39m=\u001b[39;49m\u001b[39mTrue\u001b[39;49;00m)\n",
            "\u001b[0;31mKeyboardInterrupt\u001b[0m: "
          ]
        }
      ],
      "source": [
        "# instantiate optimizer and loss\n",
        "loss = torch.nn.CrossEntropyLoss()\n",
        "optimizer = torch.optim.SGD(params=network.parameters(),lr=0.01, momentum=0.8) #could also use Adam optimiser \n",
        "\n",
        "test_acc = []\n",
        "network = network.to(device)\n",
        "\n",
        "# train for 10 epochs\n",
        "for epoch in range(10):\n",
        "  # train the network on the batches of the training set\n",
        "  for x,t in train_loader: \n",
        "    optimizer.zero_grad()\n",
        "    x, t = x.to(device), t.to(device)\n",
        "\n",
        "    y = network(x)\n",
        "    l = loss(y, t)\n",
        "    l.backward()\n",
        "    optimizer.step()\n",
        "\n",
        "  # compute test set accuracy\n",
        "  with torch.no_grad():\n",
        "      for x, t in test_loader:\n",
        "        x, t = x.to(device), t.to(device)\n",
        "        y = network(x)\n",
        "        test_acc.append((y.argmax(dim=1) == t).float().mean().item())\n",
        "\n",
        "  # report test set accuracy\n",
        "  print(f\"Epoch {epoch+1}: test set accuracy: {sum(test_acc)/len(test_acc)}\")"
      ]
    },
    {
      "cell_type": "code",
      "execution_count": null,
      "metadata": {},
      "outputs": [],
      "source": []
    }
  ],
  "metadata": {
    "colab": {
      "collapsed_sections": [],
      "name": "DL-FS22-Exam-Task3.ipynb",
      "provenance": []
    },
    "interpreter": {
      "hash": "a29cabff5744fce69e08a959ab87b9e77a9f67b498d08783caa8c3bb16f23a00"
    },
    "kernelspec": {
      "display_name": "Python 3.8.13 ('DL')",
      "language": "python",
      "name": "python3"
    },
    "language_info": {
      "codemirror_mode": {
        "name": "ipython",
        "version": 3
      },
      "file_extension": ".py",
      "mimetype": "text/x-python",
      "name": "python",
      "nbconvert_exporter": "python",
      "pygments_lexer": "ipython3",
      "version": "3.10.11"
    },
    "orig_nbformat": 4
  },
  "nbformat": 4,
  "nbformat_minor": 0
}
