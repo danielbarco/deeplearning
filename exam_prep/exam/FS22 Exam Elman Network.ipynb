{
  "cells": [
    {
      "attachments": {},
      "cell_type": "markdown",
      "metadata": {
        "id": "3Sy3dTGcaCKy"
      },
      "source": [
        "# 2. Activity Prediction\n",
        "\n",
        "First, we download and extract the data.\n",
        "We read them into two lists, one containing the input data $\\mathcal X$ and one the target classes $\\mathbf T$ as integral values.\n",
        "The input data $\\mathcal X \\in \\mathbb R^{M\\times N\\times D}$ is organized such that we have $M=15$ subjects with various numbers $N$ of samples, each with a data dimension of $D=3$.\n",
        "The target data $\\mathbf T \\in \\mathbb \\{0,...,6\\}^{M\\times N}$ provides the target class for each sample.\n",
        "\n",
        "Please do not modify this code."
      ]
    },
    {
      "cell_type": "code",
      "execution_count": 1,
      "metadata": {
        "id": "mFuJD6ozaCK5"
      },
      "outputs": [
        {
          "name": "stdout",
          "output_type": "stream",
          "text": [
            "Downloaded datafile UserActivity.zip\n",
            "Extracted datafile UserActivity.zip\n",
            "number of subjects: 15\n",
            "number of samples for the first subject: 162500\n",
            "length of one input sample: 3\n"
          ]
        }
      ],
      "source": [
        "import os\n",
        "\n",
        "# download data\n",
        "if not os.path.exists(\"UserActivity.zip\"):\n",
        "  import urllib.request\n",
        "  urllib.request.urlretrieve(\"https://archive.ics.uci.edu/ml/machine-learning-databases/00287/Activity%20Recognition%20from%20Single%20Chest-Mounted%20Accelerometer.zip\", \"UserActivity.zip\")\n",
        "  print (\"Downloaded datafile\", \"UserActivity.zip\")\n",
        "\n",
        "# extract data\n",
        "if not os.path.exists(\"Activity Recognition from Single Chest-Mounted Accelerometer\"):\n",
        "  import zipfile\n",
        "  zipfile.ZipFile(\"UserActivity.zip\").extractall()\n",
        "  print (\"Extracted datafile\", \"UserActivity.zip\")\n",
        "\n",
        "# read the data from the files\n",
        "X = []\n",
        "T = []\n",
        "for i in range(1,16):\n",
        "  # collect samples for each of the 15 subjects\n",
        "  with open(f\"Activity Recognition from Single Chest-Mounted Accelerometer/{i}.csv\") as f:\n",
        "    # inputs and targets for this subject\n",
        "    x, t = [], []\n",
        "    for i, line in enumerate(f):\n",
        "      # split the data\n",
        "      splits = line.rstrip().split(\",\")\n",
        "      # get the target value\n",
        "      tt = int(splits[-1])\n",
        "      # there are some invalid target values, we skip these\n",
        "      if tt: \n",
        "        # load the three accelorometer data\n",
        "        x.append([float(v) for v in splits[1:-1]])\n",
        "        # add the label (convert from one-based into zero-based indexing)\n",
        "        t.append(tt-1)\n",
        "    # append samples and targets of the current subject\n",
        "    X.append(x)\n",
        "    T.append(t)\n",
        "\n",
        "# print some statistics of the dataset\n",
        "print (f\"number of subjects: {len(X)}\\nnumber of samples for the first subject: {len(X[0])}\\nlength of one input sample: {len(X[0][0])}\")"
      ]
    },
    {
      "attachments": {},
      "cell_type": "markdown",
      "metadata": {
        "id": "UjkZsIvsaCK-"
      },
      "source": [
        "### 2. (d) Data Reduction\n",
        "\n",
        "Implement a strategy to reduce the amount of data for each subject. Assure that you apply the identical selection strategy for the inputs and the targets. Make sure that you do not change the arrangement of the data matrices."
      ]
    },
    {
      "cell_type": "code",
      "execution_count": 2,
      "metadata": {
        "id": "AQoNfk0MaCLA"
      },
      "outputs": [
        {
          "name": "stdout",
          "output_type": "stream",
          "text": [
            "number of subjects: 15\n",
            "number of samples for the first subject: 500\n",
            "length of one input sample: 3\n",
            "number of subjects: 15\n",
            "number of targets for the first subject: 500\n"
          ]
        }
      ],
      "source": [
        "#I want to reduce the data by reducing dimension N: \n",
        "# select subset of data\n",
        "X_selected = [x[:500] for x in X] \n",
        "T_selected = [t[:500] for t in T] \n",
        "\n",
        "\n",
        "\n",
        "print (f\"number of subjects: {len(X_selected)}\\nnumber of samples for the first subject: {len(X_selected[0])}\\nlength of one input sample: {len(X_selected[0][0])}\")\n",
        "print (f\"number of subjects: {len(T_selected)}\\nnumber of targets for the first subject: {len(T_selected[0])}\")"
      ]
    },
    {
      "attachments": {},
      "cell_type": "markdown",
      "metadata": {
        "id": "z_Y-GoL-aCLC"
      },
      "source": [
        "Here, we concatenate the data of subjects 1-10 into the training matrices, and the data of subjects 11-15 into the validation set. \n",
        "There is no need to change this code (unless you changed the arrangement of the data above, in which case you also need to adapt this code)."
      ]
    },
    {
      "cell_type": "code",
      "execution_count": 3,
      "metadata": {
        "id": "7EWL_UUgaCLD"
      },
      "outputs": [
        {
          "name": "stdout",
          "output_type": "stream",
          "text": [
            "The shape of the training input is: torch.Size([5000, 3])\n",
            "the shape of the training targets is torch.Size([5000])\n"
          ]
        }
      ],
      "source": [
        "import torch\n",
        "device = \"cuda\" if torch.cuda.is_available() else \"cpu\"\n",
        "\n",
        "X_train = torch.tensor(sum(X_selected[:10], []))\n",
        "X_val = torch.tensor(sum(X_selected[10:], []))\n",
        "\n",
        "T_train = torch.tensor(sum(T_selected[:10], []))\n",
        "T_val = torch.tensor(sum(T_selected[10:], []))\n",
        "\n",
        "print(f\"The shape of the training input is: {X_train.shape}\\nthe shape of the training targets is {T_train.shape}\")"
      ]
    },
    {
      "attachments": {},
      "cell_type": "markdown",
      "metadata": {
        "id": "orqmeFsLaCLF"
      },
      "source": [
        "### 2. (e) Dataset Implementation\n",
        "\n",
        "Implement the dataset that takes the given data `X` and `T`, as well as a sequence length `S`. Return a sequence of `S` samples and the label for the last element in the sequence."
      ]
    },
    {
      "cell_type": "code",
      "execution_count": 4,
      "metadata": {
        "id": "Yu30QQN0aCLH"
      },
      "outputs": [],
      "source": [
        "class Dataset(torch.utils.data.Dataset):\n",
        "  \n",
        "  def __init__(self, X, T, S):\n",
        "    # implement the constructor\n",
        "    self.X = X\n",
        "    self.T = T\n",
        "    self.S = S\n",
        "\n",
        "  def __len__(self):\n",
        "    # return the number of samples in this dataset\n",
        "    return len(self.X)\n",
        "\n",
        "  def __getitem__(self, index):\n",
        "    # return the pair of input and target values for the given index\n",
        "    if index+self.S >= len(self.X):\n",
        "      return self.X[index:], self.T[index:]\n",
        "    return self.X[index:index+self.S], self.T[index+self.S]"
      ]
    },
    {
      "attachments": {},
      "cell_type": "markdown",
      "metadata": {
        "id": "8v8rKM4faCLI"
      },
      "source": [
        "### 2. (f) Data Loaders\n",
        "\n",
        "We need to instantiate training and validation set data loaders."
      ]
    },
    {
      "cell_type": "code",
      "execution_count": 5,
      "metadata": {
        "id": "GwBmYRxoaCLK"
      },
      "outputs": [],
      "source": [
        "# instantiate training set data loader\n",
        "train_set = Dataset(X_train, T_train, 10)\n",
        "train_loader = torch.utils.data.DataLoader(train_set, batch_size=32, shuffle=True)\n",
        "\n",
        "# and the validation set data loader\n",
        "val_set = Dataset(X_val, T_val, 10)\n",
        "val_loader = torch.utils.data.DataLoader(val_set, batch_size=32, shuffle=False)"
      ]
    },
    {
      "attachments": {},
      "cell_type": "markdown",
      "metadata": {
        "id": "wPZDKDnnaCLL"
      },
      "source": [
        "### 2. (g) Network Implementation\n",
        "\n",
        "Implement and instantiate one of the networks discussed in (a). Since there are various different ways to implement this network, no guidelines will be provided here. Note that the network should output the prediction only for the last sequence element."
      ]
    },
    {
      "cell_type": "code",
      "execution_count": 28,
      "metadata": {
        "id": "5N9J8a8yaCLM"
      },
      "outputs": [],
      "source": [
        "# implement and instantiate the network\n",
        "\n",
        "class ElmanNetwork(torch.nn.Module):\n",
        "  def __init__(self, D, K):\n",
        "    super(ElmanNetwork,self).__init__()\n",
        "    self.W1 = torch.nn.Linear(D, K)\n",
        "    self.Wr = torch.nn.Linear(K, K)\n",
        "    self.W2 = torch.nn.Linear(K, D)\n",
        "    self.activation = torch.nn.PReLU()\n",
        "    self.K = K\n",
        "\n",
        "  def forward(self, x):\n",
        "    # get the shape of the data\n",
        "    B, S, D = x.shape\n",
        "    # initialize the hidden vector in the desired size with 0\n",
        "    # remember to put it on the device\n",
        "    h_s = torch.zeros((B,self.K)).to(device)\n",
        "    # store all logits (we will need them in the loss function)\n",
        "    Z = torch.empty(x.shape, device=device)\n",
        "    # iterate over the sequence\n",
        "    for s in range(S):\n",
        "      # use current sequence item\n",
        "      x_s = x[:, s]\n",
        "      # compute recurrent activation\n",
        "      a_s = self.W1(x_s) + self.Wr(h_s)\n",
        "      # apply activation function\n",
        "      h_s = self.activation(a_s)\n",
        "      # compute logit values\n",
        "      z = self.W2(h_s)\n",
        "      # store logit value\n",
        "      Z[:,s] = z\n",
        "\n",
        "    # return logits for all sequence elements\n",
        "    return Z\n",
        "\n",
        "network = ElmanNetwork(3, 30).to(device)"
      ]
    },
    {
      "attachments": {},
      "cell_type": "markdown",
      "metadata": {
        "id": "AzNxHb7baCLN"
      },
      "source": [
        "### 2. (h) Network Training\n",
        "\n",
        "Instantiate the loss function and the optimizer. Train the network for 10 epochs and compute validation set accuracy. Note that one epoch of training might take several minutes. There is no need to wait for the results."
      ]
    },
    {
      "cell_type": "code",
      "execution_count": 29,
      "metadata": {
        "id": "jlZNJ9nzaCLO"
      },
      "outputs": [
        {
          "name": "stdout",
          "output_type": "stream",
          "text": [
            "torch.Size([32, 10, 3])\n"
          ]
        },
        {
          "ename": "RuntimeError",
          "evalue": "Expected target size [32, 3], got [32]",
          "output_type": "error",
          "traceback": [
            "\u001b[0;31m---------------------------------------------------------------------------\u001b[0m",
            "\u001b[0;31mRuntimeError\u001b[0m                              Traceback (most recent call last)",
            "Cell \u001b[0;32mIn[29], line 20\u001b[0m\n\u001b[1;32m     16\u001b[0m z \u001b[39m=\u001b[39m network(x)\n\u001b[1;32m     17\u001b[0m \u001b[39m# compute loss, arrange order of logits and targets\u001b[39;00m\n\u001b[1;32m     18\u001b[0m \u001b[39m#change order of dimensions for x, because the loss is computed over D,\u001b[39;00m\n\u001b[1;32m     19\u001b[0m \u001b[39m#which is the third dimension, but needs to be the second one\u001b[39;00m\n\u001b[0;32m---> 20\u001b[0m J \u001b[39m=\u001b[39m loss(z, t)\n\u001b[1;32m     21\u001b[0m \u001b[39m# reset gradients\u001b[39;00m\n\u001b[1;32m     22\u001b[0m optimizer\u001b[39m.\u001b[39mzero_grad()\n",
            "File \u001b[0;32m/opt/conda/lib/python3.10/site-packages/torch/nn/modules/module.py:1501\u001b[0m, in \u001b[0;36mModule._call_impl\u001b[0;34m(self, *args, **kwargs)\u001b[0m\n\u001b[1;32m   1496\u001b[0m \u001b[39m# If we don't have any hooks, we want to skip the rest of the logic in\u001b[39;00m\n\u001b[1;32m   1497\u001b[0m \u001b[39m# this function, and just call forward.\u001b[39;00m\n\u001b[1;32m   1498\u001b[0m \u001b[39mif\u001b[39;00m \u001b[39mnot\u001b[39;00m (\u001b[39mself\u001b[39m\u001b[39m.\u001b[39m_backward_hooks \u001b[39mor\u001b[39;00m \u001b[39mself\u001b[39m\u001b[39m.\u001b[39m_backward_pre_hooks \u001b[39mor\u001b[39;00m \u001b[39mself\u001b[39m\u001b[39m.\u001b[39m_forward_hooks \u001b[39mor\u001b[39;00m \u001b[39mself\u001b[39m\u001b[39m.\u001b[39m_forward_pre_hooks\n\u001b[1;32m   1499\u001b[0m         \u001b[39mor\u001b[39;00m _global_backward_pre_hooks \u001b[39mor\u001b[39;00m _global_backward_hooks\n\u001b[1;32m   1500\u001b[0m         \u001b[39mor\u001b[39;00m _global_forward_hooks \u001b[39mor\u001b[39;00m _global_forward_pre_hooks):\n\u001b[0;32m-> 1501\u001b[0m     \u001b[39mreturn\u001b[39;00m forward_call(\u001b[39m*\u001b[39;49margs, \u001b[39m*\u001b[39;49m\u001b[39m*\u001b[39;49mkwargs)\n\u001b[1;32m   1502\u001b[0m \u001b[39m# Do not call functions when jit is used\u001b[39;00m\n\u001b[1;32m   1503\u001b[0m full_backward_hooks, non_full_backward_hooks \u001b[39m=\u001b[39m [], []\n",
            "File \u001b[0;32m/opt/conda/lib/python3.10/site-packages/torch/nn/modules/loss.py:1174\u001b[0m, in \u001b[0;36mCrossEntropyLoss.forward\u001b[0;34m(self, input, target)\u001b[0m\n\u001b[1;32m   1173\u001b[0m \u001b[39mdef\u001b[39;00m \u001b[39mforward\u001b[39m(\u001b[39mself\u001b[39m, \u001b[39minput\u001b[39m: Tensor, target: Tensor) \u001b[39m-\u001b[39m\u001b[39m>\u001b[39m Tensor:\n\u001b[0;32m-> 1174\u001b[0m     \u001b[39mreturn\u001b[39;00m F\u001b[39m.\u001b[39;49mcross_entropy(\u001b[39minput\u001b[39;49m, target, weight\u001b[39m=\u001b[39;49m\u001b[39mself\u001b[39;49m\u001b[39m.\u001b[39;49mweight,\n\u001b[1;32m   1175\u001b[0m                            ignore_index\u001b[39m=\u001b[39;49m\u001b[39mself\u001b[39;49m\u001b[39m.\u001b[39;49mignore_index, reduction\u001b[39m=\u001b[39;49m\u001b[39mself\u001b[39;49m\u001b[39m.\u001b[39;49mreduction,\n\u001b[1;32m   1176\u001b[0m                            label_smoothing\u001b[39m=\u001b[39;49m\u001b[39mself\u001b[39;49m\u001b[39m.\u001b[39;49mlabel_smoothing)\n",
            "File \u001b[0;32m/opt/conda/lib/python3.10/site-packages/torch/nn/functional.py:3029\u001b[0m, in \u001b[0;36mcross_entropy\u001b[0;34m(input, target, weight, size_average, ignore_index, reduce, reduction, label_smoothing)\u001b[0m\n\u001b[1;32m   3027\u001b[0m \u001b[39mif\u001b[39;00m size_average \u001b[39mis\u001b[39;00m \u001b[39mnot\u001b[39;00m \u001b[39mNone\u001b[39;00m \u001b[39mor\u001b[39;00m reduce \u001b[39mis\u001b[39;00m \u001b[39mnot\u001b[39;00m \u001b[39mNone\u001b[39;00m:\n\u001b[1;32m   3028\u001b[0m     reduction \u001b[39m=\u001b[39m _Reduction\u001b[39m.\u001b[39mlegacy_get_string(size_average, reduce)\n\u001b[0;32m-> 3029\u001b[0m \u001b[39mreturn\u001b[39;00m torch\u001b[39m.\u001b[39;49m_C\u001b[39m.\u001b[39;49m_nn\u001b[39m.\u001b[39;49mcross_entropy_loss(\u001b[39minput\u001b[39;49m, target, weight, _Reduction\u001b[39m.\u001b[39;49mget_enum(reduction), ignore_index, label_smoothing)\n",
            "\u001b[0;31mRuntimeError\u001b[0m: Expected target size [32, 3], got [32]"
          ]
        }
      ],
      "source": [
        "# instantiate optimizer and loss function\n",
        "loss = torch.nn.CrossEntropyLoss()\n",
        "optimizer = torch.optim.SGD(network.parameters(), lr=0.001)\n",
        "network = network.to(device)\n",
        "\n",
        "val_acc = []\n",
        "\n",
        "# train the network for 10 epochs\n",
        "for epoch in range(10):\n",
        "  # use all training samples in batches\n",
        "   for x, t in train_loader:\n",
        "    print(x.shape)\n",
        "    # put data on device\n",
        "    x, t = x.to(device), t.to(device)\n",
        "    # compute network output\n",
        "    z = network(x)\n",
        "    # compute loss, arrange order of logits and targets\n",
        "    #change order of dimensions for x, because the loss is computed over D,\n",
        "    #which is the third dimension, but needs to be the second one\n",
        "    J = loss(z, t)\n",
        "    # reset gradients\n",
        "    optimizer.zero_grad()\n",
        "\n",
        "    # compute gradient for this batch\n",
        "    J.backward()\n",
        "    # update parameters\n",
        "    optimizer.step()\n",
        "    \n",
        "    # select a new sequence length S in [5,20]\n",
        "    S = torch.randint(5, 21, (1,)).item()\n",
        "    \n",
        "  # compute validation set accuracy\n",
        "   with torch.no_grad():\n",
        "    # store all predictions\n",
        "    predictions = []\n",
        "    # iterate over all validation samples\n",
        "    for x, t in val_loader:\n",
        "      # put data on device\n",
        "      x, t = x.to(device), t.to(device)\n",
        "      # compute network output\n",
        "      z = network(x)\n",
        "      # compute predictions\n",
        "      pred = torch.argmax(z, dim=2)\n",
        "      # store predictions\n",
        "      predictions.append(pred)\n",
        "    # concatenate all predictions\n",
        "    predictions = torch.cat(predictions)\n",
        "    # compute accuracy\n",
        "    acc = (predictions == T_val).float().mean()\n",
        "    # store accuracy\n",
        "    val_acc.append(acc.item())\n",
        "\n",
        "    # report validation set accuracy\n",
        "    print(f\"epoch {epoch+1}, validation accuracy: {acc.item():.3f}\")"
      ]
    },
    {
      "cell_type": "code",
      "execution_count": null,
      "metadata": {},
      "outputs": [],
      "source": []
    }
  ],
  "metadata": {
    "colab": {
      "collapsed_sections": [],
      "name": "DL-FS22-Exam-Task2.ipynb",
      "provenance": []
    },
    "interpreter": {
      "hash": "a29cabff5744fce69e08a959ab87b9e77a9f67b498d08783caa8c3bb16f23a00"
    },
    "kernelspec": {
      "display_name": "Python 3.8.13 ('DL')",
      "language": "python",
      "name": "python3"
    },
    "language_info": {
      "codemirror_mode": {
        "name": "ipython",
        "version": 3
      },
      "file_extension": ".py",
      "mimetype": "text/x-python",
      "name": "python",
      "nbconvert_exporter": "python",
      "pygments_lexer": "ipython3",
      "version": "3.10.11"
    },
    "orig_nbformat": 4
  },
  "nbformat": 4,
  "nbformat_minor": 0
}
