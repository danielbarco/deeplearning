{
  "cells": [
    {
      "cell_type": "markdown",
      "metadata": {
        "id": "VDc4w-QsjDJ7"
      },
      "source": [
        "# 3. Image Classification\n",
        "\n",
        "We import everything that we will need, and instantiate a device that we want to use."
      ]
    },
    {
      "cell_type": "code",
      "execution_count": null,
      "metadata": {
        "id": "nLlVHjh0jDKA"
      },
      "outputs": [],
      "source": [
        "# import everything\n",
        "import torch\n",
        "import torchvision\n",
        "device = torch.device(\"cuda\")"
      ]
    },
    {
      "cell_type": "markdown",
      "metadata": {
        "id": "4d_ldgO0jDKD"
      },
      "source": [
        "### 3. (c) Network Implementation\n",
        "\n",
        "Implement and instantiate the network as given. Since there are various different ways to implement this network, no guidelines will be provided here."
      ]
    },
    {
      "cell_type": "code",
      "execution_count": null,
      "metadata": {
        "id": "st-6hbXjjDKE"
      },
      "outputs": [],
      "source": [
        "# implement and instantiate a network\n",
        "def convolutional(Q1, Q2, O):\n",
        "  return torch.nn.Sequential(\n",
        "    torch.nn.Conv2d(in_channels=1, out_channels=Q1, kernel_size = (5,5), stride=2, padding=0), \n",
        "    torch.nn.Conv2d(in_channels=Q1, out_channels=Q2, kernel_size = (3,3), stride=1, padding=1),\n",
        "    torch.nn.MaxPool2d(kernel_size=(2,2), stride=2),\n",
        "    torch.nn.Flatten(), #flatten is necessary before the first fully connected layer\n",
        "    torch.nn.Linear(Q2*7*7, O)\n",
        "    torch.nn.Softmax()\n",
        "  )\n",
        "\n",
        "network = convolutional(16, 32, 10)"
      ]
    },
    {
      "cell_type": "markdown",
      "metadata": {
        "id": "ysPD4DvhjDKF"
      },
      "source": [
        "### 3. (d) Dataset and Data Loaders\n",
        "\n",
        "We make use of the CIFAR-10 dataset, which is part of the `torchvision.datasets`. Instantiate training and test data loaders for this dataset."
      ]
    },
    {
      "cell_type": "code",
      "execution_count": null,
      "metadata": {
        "id": "fQuPl_91jDKG"
      },
      "outputs": [],
      "source": [
        "# instantiate training data loader\n",
        "train_set =  torchvision.datasets.CIFAR10(\n",
        "  root=\".\",\n",
        "  train=True,\n",
        "  download=True,\n",
        "  transform=torchvision.transforms.ToTensor()\n",
        ")\n",
        "train_loader = torch.utils.data.DataLoader(train_set, shuffle=True, batch_size=32)\n",
        "\n",
        "# instantiate test data loader\n",
        "test_set =  torchvision.datasets.CIFAR10(\n",
        "  root=\".\",\n",
        "  train=False,\n",
        "  download=True,\n",
        "  transform=torchvision.transforms.ToTensor()\n",
        ")\n",
        "test_loader = torch.utils.data.DataLoader(test_set, shuffle=False, batch_size=32)"
      ]
    },
    {
      "cell_type": "markdown",
      "metadata": {
        "id": "urIGX_qcjDKH"
      },
      "source": [
        "### 3. (e) Network Training\n",
        "\n",
        "Train the network using appropriate optimizer and loss function for 10 epochs. Compute validation set accuracy at the end of each epoch."
      ]
    },
    {
      "cell_type": "code",
      "execution_count": null,
      "metadata": {
        "id": "wLjOlswpjDKI"
      },
      "outputs": [],
      "source": [
        "# instantiate optimizer and loss\n",
        "loss = torch.nn.CrossEntropyLoss()\n",
        "optimizer = optimizer = torch.optim.SGD(params=network.parameters(),lr=0.01, momentum=0.9) #could also use Adam optimiser \n",
        "\n",
        "test_acc = []\n",
        "\n",
        "# train for 10 epochs\n",
        "for epoch in range(10):\n",
        "  # train the network on the batches of the training set\n",
        "  for x,t in train_loader: \n",
        "      optimizer.zero_grad()\n",
        "      x = x.to(device)\n",
        "      t = t.to(device)\n",
        "      z = network(x)\n",
        "      J = loss(z, t)\n",
        "      J.backward()\n",
        "      optimizer.step()\n",
        "\n",
        "\n",
        "  # compute test set accuracy\n",
        "  with torch.no_grad():\n",
        "      cur_acc = 0. #for each epoch, we compute the validation acc\n",
        "      for x,t in test_loader:\n",
        "            z = network(x.to(device))\n",
        "            j = loss(z, t.to(device))\n",
        "            cur_acc += torch.sum(torch.argmax(z, dim=1) == t.to(device).item()) #accuracy identity function (last time the accuracy function was implemented seperately)\n",
        "      val_acc.append(cur_acc/(len(testset)))\n",
        "\n",
        "  # report test set accuracy\n",
        "  print(f\"Epoch {epoch+1}: test set accuracy: {...}\")"
      ]
    }
  ],
  "metadata": {
    "interpreter": {
      "hash": "a29cabff5744fce69e08a959ab87b9e77a9f67b498d08783caa8c3bb16f23a00"
    },
    "kernelspec": {
      "display_name": "Python 3.8.13 ('DL')",
      "language": "python",
      "name": "python3"
    },
    "language_info": {
      "codemirror_mode": {
        "name": "ipython",
        "version": 3
      },
      "file_extension": ".py",
      "mimetype": "text/x-python",
      "name": "python",
      "nbconvert_exporter": "python",
      "pygments_lexer": "ipython3",
      "version": "3.8.13"
    },
    "orig_nbformat": 4,
    "colab": {
      "name": "DL-FS22-Exam-Task3.ipynb",
      "provenance": [],
      "collapsed_sections": []
    }
  },
  "nbformat": 4,
  "nbformat_minor": 0
}