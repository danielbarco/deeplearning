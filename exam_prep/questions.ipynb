{
 "cells": [
  {
   "attachments": {},
   "cell_type": "markdown",
   "metadata": {},
   "source": [
    "# Deep Learning Questions"
   ]
  },
  {
   "attachments": {},
   "cell_type": "markdown",
   "metadata": {},
   "source": [
    "## Lecture 2: Simple Networks & Gradient Descent"
   ]
  },
  {
   "attachments": {},
   "cell_type": "markdown",
   "metadata": {},
   "source": [
    "Which Elements are Required to Define a Loss Function?"
   ]
  },
  {
   "attachments": {},
   "cell_type": "markdown",
   "metadata": {},
   "source": [
    "A dataset with inputs X and targets T <br>\n",
    "$f_{\\phi}$ = model to produce an output from an input e.g. neural network <br>\n",
    "Cmp(y, t) = loss function to compare the difference between function output and target value"
   ]
  },
  {
   "attachments": {},
   "cell_type": "markdown",
   "metadata": {},
   "source": [
    "What Kinds of Problems can Arise in Gradient Descent"
   ]
  },
  {
   "attachments": {},
   "cell_type": "markdown",
   "metadata": {},
   "source": [
    "- reaches local minimum <br>\n",
    "- jumps over minimum <br>\n",
    "- oscilates <br>\n",
    "- reaches global optimum <br>\n",
    "- gets stuck on plateau <br>"
   ]
  },
  {
   "attachments": {},
   "cell_type": "markdown",
   "metadata": {},
   "source": [
    "Assume a Linear Model $f_w$ with D + 1 Parameters\n",
    "- How many inputs can this model have?\n",
    "- How many values does the gradient $∇_w$ have?\n",
    "- Which kinds of applications can we perform with this model?"
   ]
  },
  {
   "attachments": {},
   "cell_type": "markdown",
   "metadata": {},
   "source": [
    "Why do we need stochastic gradient descent opposed to gradient descent?"
   ]
  },
  {
   "attachments": {},
   "cell_type": "markdown",
   "metadata": {},
   "source": [
    "Why do we need batched stochastic gradient descent?"
   ]
  },
  {
   "attachments": {},
   "cell_type": "markdown",
   "metadata": {},
   "source": [
    "According to the Universal Approximation Theorem, what do we need to approximate any continous function?"
   ]
  },
  {
   "attachments": {},
   "cell_type": "markdown",
   "metadata": {},
   "source": [
    "What is the benefit of momentum learning?"
   ]
  },
  {
   "attachments": {},
   "cell_type": "markdown",
   "metadata": {},
   "source": []
  }
 ],
 "metadata": {
  "language_info": {
   "name": "python"
  },
  "orig_nbformat": 4
 },
 "nbformat": 4,
 "nbformat_minor": 2
}
